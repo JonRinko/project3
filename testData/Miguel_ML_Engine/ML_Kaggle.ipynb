{
 "cells": [
  {
   "cell_type": "code",
   "execution_count": null,
   "metadata": {},
   "outputs": [],
   "source": [
    "# !pip install seaborn"
   ]
  },
  {
   "cell_type": "code",
   "execution_count": null,
   "metadata": {},
   "outputs": [],
   "source": [
    "# !pip install pandas_profiling"
   ]
  },
  {
   "cell_type": "code",
   "execution_count": null,
   "metadata": {},
   "outputs": [],
   "source": [
    "# !pip install sklearn"
   ]
  },
  {
   "cell_type": "code",
   "execution_count": 1,
   "metadata": {},
   "outputs": [],
   "source": [
    "import math\n",
    "import numpy as np\n",
    "import pandas as pd\n",
    "import pandas_profiling\n",
    "import matplotlib.pyplot as plt\n",
    "import seaborn as sns\n",
    "%matplotlib inline\n",
    "\n",
    "from sklearn.linear_model import LinearRegression\n",
    "from sklearn.metrics import mean_squared_error"
   ]
  },
  {
   "cell_type": "code",
   "execution_count": 2,
   "metadata": {},
   "outputs": [],
   "source": [
    "pd.options.display.max_rows = 1000\n",
    "pd.options.display.max_columns = 1000"
   ]
  },
  {
   "cell_type": "code",
   "execution_count": 3,
   "metadata": {},
   "outputs": [
    {
     "data": {
      "text/html": [
       "<div>\n",
       "<style scoped>\n",
       "    .dataframe tbody tr th:only-of-type {\n",
       "        vertical-align: middle;\n",
       "    }\n",
       "\n",
       "    .dataframe tbody tr th {\n",
       "        vertical-align: top;\n",
       "    }\n",
       "\n",
       "    .dataframe thead th {\n",
       "        text-align: right;\n",
       "    }\n",
       "</style>\n",
       "<table border=\"1\" class=\"dataframe\">\n",
       "  <thead>\n",
       "    <tr style=\"text-align: right;\">\n",
       "      <th></th>\n",
       "      <th>brewery_id</th>\n",
       "      <th>brewery_name</th>\n",
       "      <th>review_time</th>\n",
       "      <th>review_overall</th>\n",
       "      <th>review_aroma</th>\n",
       "      <th>review_appearance</th>\n",
       "      <th>review_profilename</th>\n",
       "      <th>beer_style</th>\n",
       "      <th>review_palate</th>\n",
       "      <th>review_taste</th>\n",
       "      <th>beer_name</th>\n",
       "      <th>beer_abv</th>\n",
       "      <th>beer_beerid</th>\n",
       "    </tr>\n",
       "  </thead>\n",
       "  <tbody>\n",
       "    <tr>\n",
       "      <th>0</th>\n",
       "      <td>10325</td>\n",
       "      <td>Vecchio Birraio</td>\n",
       "      <td>1234817823</td>\n",
       "      <td>1.5</td>\n",
       "      <td>2.0</td>\n",
       "      <td>2.5</td>\n",
       "      <td>stcules</td>\n",
       "      <td>Hefeweizen</td>\n",
       "      <td>1.5</td>\n",
       "      <td>1.5</td>\n",
       "      <td>Sausa Weizen</td>\n",
       "      <td>5.0</td>\n",
       "      <td>47986</td>\n",
       "    </tr>\n",
       "    <tr>\n",
       "      <th>1</th>\n",
       "      <td>10325</td>\n",
       "      <td>Vecchio Birraio</td>\n",
       "      <td>1235915097</td>\n",
       "      <td>3.0</td>\n",
       "      <td>2.5</td>\n",
       "      <td>3.0</td>\n",
       "      <td>stcules</td>\n",
       "      <td>English Strong Ale</td>\n",
       "      <td>3.0</td>\n",
       "      <td>3.0</td>\n",
       "      <td>Red Moon</td>\n",
       "      <td>6.2</td>\n",
       "      <td>48213</td>\n",
       "    </tr>\n",
       "    <tr>\n",
       "      <th>2</th>\n",
       "      <td>10325</td>\n",
       "      <td>Vecchio Birraio</td>\n",
       "      <td>1235916604</td>\n",
       "      <td>3.0</td>\n",
       "      <td>2.5</td>\n",
       "      <td>3.0</td>\n",
       "      <td>stcules</td>\n",
       "      <td>Foreign / Export Stout</td>\n",
       "      <td>3.0</td>\n",
       "      <td>3.0</td>\n",
       "      <td>Black Horse Black Beer</td>\n",
       "      <td>6.5</td>\n",
       "      <td>48215</td>\n",
       "    </tr>\n",
       "    <tr>\n",
       "      <th>3</th>\n",
       "      <td>10325</td>\n",
       "      <td>Vecchio Birraio</td>\n",
       "      <td>1234725145</td>\n",
       "      <td>3.0</td>\n",
       "      <td>3.0</td>\n",
       "      <td>3.5</td>\n",
       "      <td>stcules</td>\n",
       "      <td>German Pilsener</td>\n",
       "      <td>2.5</td>\n",
       "      <td>3.0</td>\n",
       "      <td>Sausa Pils</td>\n",
       "      <td>5.0</td>\n",
       "      <td>47969</td>\n",
       "    </tr>\n",
       "    <tr>\n",
       "      <th>4</th>\n",
       "      <td>1075</td>\n",
       "      <td>Caldera Brewing Company</td>\n",
       "      <td>1293735206</td>\n",
       "      <td>4.0</td>\n",
       "      <td>4.5</td>\n",
       "      <td>4.0</td>\n",
       "      <td>johnmichaelsen</td>\n",
       "      <td>American Double / Imperial IPA</td>\n",
       "      <td>4.0</td>\n",
       "      <td>4.5</td>\n",
       "      <td>Cauldron DIPA</td>\n",
       "      <td>7.7</td>\n",
       "      <td>64883</td>\n",
       "    </tr>\n",
       "  </tbody>\n",
       "</table>\n",
       "</div>"
      ],
      "text/plain": [
       "   brewery_id             brewery_name  review_time  review_overall  \\\n",
       "0       10325          Vecchio Birraio   1234817823             1.5   \n",
       "1       10325          Vecchio Birraio   1235915097             3.0   \n",
       "2       10325          Vecchio Birraio   1235916604             3.0   \n",
       "3       10325          Vecchio Birraio   1234725145             3.0   \n",
       "4        1075  Caldera Brewing Company   1293735206             4.0   \n",
       "\n",
       "   review_aroma  review_appearance review_profilename  \\\n",
       "0           2.0                2.5            stcules   \n",
       "1           2.5                3.0            stcules   \n",
       "2           2.5                3.0            stcules   \n",
       "3           3.0                3.5            stcules   \n",
       "4           4.5                4.0     johnmichaelsen   \n",
       "\n",
       "                       beer_style  review_palate  review_taste  \\\n",
       "0                      Hefeweizen            1.5           1.5   \n",
       "1              English Strong Ale            3.0           3.0   \n",
       "2          Foreign / Export Stout            3.0           3.0   \n",
       "3                 German Pilsener            2.5           3.0   \n",
       "4  American Double / Imperial IPA            4.0           4.5   \n",
       "\n",
       "                beer_name  beer_abv  beer_beerid  \n",
       "0            Sausa Weizen       5.0        47986  \n",
       "1                Red Moon       6.2        48213  \n",
       "2  Black Horse Black Beer       6.5        48215  \n",
       "3              Sausa Pils       5.0        47969  \n",
       "4           Cauldron DIPA       7.7        64883  "
      ]
     },
     "execution_count": 3,
     "metadata": {},
     "output_type": "execute_result"
    }
   ],
   "source": [
    "beers_df = pd.read_csv( 'beer_reviews.csv' )\n",
    "beers_df.head()"
   ]
  },
  {
   "cell_type": "code",
   "execution_count": 4,
   "metadata": {},
   "outputs": [
    {
     "data": {
      "text/plain": [
       "(1586614, 13)"
      ]
     },
     "execution_count": 4,
     "metadata": {},
     "output_type": "execute_result"
    }
   ],
   "source": [
    "beers_df.shape"
   ]
  },
  {
   "cell_type": "code",
   "execution_count": 5,
   "metadata": {},
   "outputs": [],
   "source": [
    "beers_df[ 'review_time' ] = pd.to_datetime( beers_df[ 'review_time' ], unit = 's' )"
   ]
  },
  {
   "cell_type": "code",
   "execution_count": 6,
   "metadata": {},
   "outputs": [
    {
     "data": {
      "text/html": [
       "<div>\n",
       "<style scoped>\n",
       "    .dataframe tbody tr th:only-of-type {\n",
       "        vertical-align: middle;\n",
       "    }\n",
       "\n",
       "    .dataframe tbody tr th {\n",
       "        vertical-align: top;\n",
       "    }\n",
       "\n",
       "    .dataframe thead th {\n",
       "        text-align: right;\n",
       "    }\n",
       "</style>\n",
       "<table border=\"1\" class=\"dataframe\">\n",
       "  <thead>\n",
       "    <tr style=\"text-align: right;\">\n",
       "      <th></th>\n",
       "      <th>brewery_id</th>\n",
       "      <th>brewery_name</th>\n",
       "      <th>review_time</th>\n",
       "      <th>review_overall</th>\n",
       "      <th>review_aroma</th>\n",
       "      <th>review_appearance</th>\n",
       "      <th>review_profilename</th>\n",
       "      <th>beer_style</th>\n",
       "      <th>review_palate</th>\n",
       "      <th>review_taste</th>\n",
       "      <th>beer_name</th>\n",
       "      <th>beer_abv</th>\n",
       "      <th>beer_beerid</th>\n",
       "    </tr>\n",
       "  </thead>\n",
       "  <tbody>\n",
       "    <tr>\n",
       "      <th>0</th>\n",
       "      <td>10325</td>\n",
       "      <td>Vecchio Birraio</td>\n",
       "      <td>2009-02-16 20:57:03</td>\n",
       "      <td>1.5</td>\n",
       "      <td>2.0</td>\n",
       "      <td>2.5</td>\n",
       "      <td>stcules</td>\n",
       "      <td>Hefeweizen</td>\n",
       "      <td>1.5</td>\n",
       "      <td>1.5</td>\n",
       "      <td>Sausa Weizen</td>\n",
       "      <td>5.0</td>\n",
       "      <td>47986</td>\n",
       "    </tr>\n",
       "    <tr>\n",
       "      <th>1</th>\n",
       "      <td>10325</td>\n",
       "      <td>Vecchio Birraio</td>\n",
       "      <td>2009-03-01 13:44:57</td>\n",
       "      <td>3.0</td>\n",
       "      <td>2.5</td>\n",
       "      <td>3.0</td>\n",
       "      <td>stcules</td>\n",
       "      <td>English Strong Ale</td>\n",
       "      <td>3.0</td>\n",
       "      <td>3.0</td>\n",
       "      <td>Red Moon</td>\n",
       "      <td>6.2</td>\n",
       "      <td>48213</td>\n",
       "    </tr>\n",
       "    <tr>\n",
       "      <th>2</th>\n",
       "      <td>10325</td>\n",
       "      <td>Vecchio Birraio</td>\n",
       "      <td>2009-03-01 14:10:04</td>\n",
       "      <td>3.0</td>\n",
       "      <td>2.5</td>\n",
       "      <td>3.0</td>\n",
       "      <td>stcules</td>\n",
       "      <td>Foreign / Export Stout</td>\n",
       "      <td>3.0</td>\n",
       "      <td>3.0</td>\n",
       "      <td>Black Horse Black Beer</td>\n",
       "      <td>6.5</td>\n",
       "      <td>48215</td>\n",
       "    </tr>\n",
       "    <tr>\n",
       "      <th>3</th>\n",
       "      <td>10325</td>\n",
       "      <td>Vecchio Birraio</td>\n",
       "      <td>2009-02-15 19:12:25</td>\n",
       "      <td>3.0</td>\n",
       "      <td>3.0</td>\n",
       "      <td>3.5</td>\n",
       "      <td>stcules</td>\n",
       "      <td>German Pilsener</td>\n",
       "      <td>2.5</td>\n",
       "      <td>3.0</td>\n",
       "      <td>Sausa Pils</td>\n",
       "      <td>5.0</td>\n",
       "      <td>47969</td>\n",
       "    </tr>\n",
       "    <tr>\n",
       "      <th>4</th>\n",
       "      <td>1075</td>\n",
       "      <td>Caldera Brewing Company</td>\n",
       "      <td>2010-12-30 18:53:26</td>\n",
       "      <td>4.0</td>\n",
       "      <td>4.5</td>\n",
       "      <td>4.0</td>\n",
       "      <td>johnmichaelsen</td>\n",
       "      <td>American Double / Imperial IPA</td>\n",
       "      <td>4.0</td>\n",
       "      <td>4.5</td>\n",
       "      <td>Cauldron DIPA</td>\n",
       "      <td>7.7</td>\n",
       "      <td>64883</td>\n",
       "    </tr>\n",
       "  </tbody>\n",
       "</table>\n",
       "</div>"
      ],
      "text/plain": [
       "   brewery_id             brewery_name         review_time  review_overall  \\\n",
       "0       10325          Vecchio Birraio 2009-02-16 20:57:03             1.5   \n",
       "1       10325          Vecchio Birraio 2009-03-01 13:44:57             3.0   \n",
       "2       10325          Vecchio Birraio 2009-03-01 14:10:04             3.0   \n",
       "3       10325          Vecchio Birraio 2009-02-15 19:12:25             3.0   \n",
       "4        1075  Caldera Brewing Company 2010-12-30 18:53:26             4.0   \n",
       "\n",
       "   review_aroma  review_appearance review_profilename  \\\n",
       "0           2.0                2.5            stcules   \n",
       "1           2.5                3.0            stcules   \n",
       "2           2.5                3.0            stcules   \n",
       "3           3.0                3.5            stcules   \n",
       "4           4.5                4.0     johnmichaelsen   \n",
       "\n",
       "                       beer_style  review_palate  review_taste  \\\n",
       "0                      Hefeweizen            1.5           1.5   \n",
       "1              English Strong Ale            3.0           3.0   \n",
       "2          Foreign / Export Stout            3.0           3.0   \n",
       "3                 German Pilsener            2.5           3.0   \n",
       "4  American Double / Imperial IPA            4.0           4.5   \n",
       "\n",
       "                beer_name  beer_abv  beer_beerid  \n",
       "0            Sausa Weizen       5.0        47986  \n",
       "1                Red Moon       6.2        48213  \n",
       "2  Black Horse Black Beer       6.5        48215  \n",
       "3              Sausa Pils       5.0        47969  \n",
       "4           Cauldron DIPA       7.7        64883  "
      ]
     },
     "execution_count": 6,
     "metadata": {},
     "output_type": "execute_result"
    }
   ],
   "source": [
    "beers_df.head()"
   ]
  },
  {
   "cell_type": "code",
   "execution_count": 7,
   "metadata": {},
   "outputs": [
    {
     "data": {
      "text/plain": [
       "brewery_id                     int64\n",
       "brewery_name                  object\n",
       "review_time           datetime64[ns]\n",
       "review_overall               float64\n",
       "review_aroma                 float64\n",
       "review_appearance            float64\n",
       "review_profilename            object\n",
       "beer_style                    object\n",
       "review_palate                float64\n",
       "review_taste                 float64\n",
       "beer_name                     object\n",
       "beer_abv                     float64\n",
       "beer_beerid                    int64\n",
       "dtype: object"
      ]
     },
     "execution_count": 7,
     "metadata": {},
     "output_type": "execute_result"
    }
   ],
   "source": [
    "beers_df.dtypes"
   ]
  },
  {
   "cell_type": "code",
   "execution_count": 8,
   "metadata": {},
   "outputs": [],
   "source": [
    "# pandas_profiling.ProfileReport( beers_df )"
   ]
  },
  {
   "cell_type": "code",
   "execution_count": 9,
   "metadata": {},
   "outputs": [],
   "source": [
    "beers_df = beers_df.loc[ beers_df[ 'review_time' ].dt.year >= 2002 ]"
   ]
  },
  {
   "cell_type": "code",
   "execution_count": 10,
   "metadata": {},
   "outputs": [
    {
     "data": {
      "text/plain": [
       "(1584276, 13)"
      ]
     },
     "execution_count": 10,
     "metadata": {},
     "output_type": "execute_result"
    }
   ],
   "source": [
    "beers_df.shape"
   ]
  },
  {
   "cell_type": "code",
   "execution_count": 14,
   "metadata": {},
   "outputs": [
    {
     "data": {
      "image/png": "[encoded data removed]",
      "text/plain": [
       "<Figure size 1440x360 with 1 Axes>"
      ]
     },
     "metadata": {
      "needs_background": "light"
     },
     "output_type": "display_data"
    }
   ],
   "source": [
    "group_by_date = beers_df[ [ 'review_time' ] ].groupby( beers_df[ 'review_time' ].dt.date ).agg( [ 'count' ] )\n",
    "plt.figure( figsize = ( 20, 5 ) )\n",
    "plt.plot( group_by_date )\n",
    "plt.xlabel( 'Date' )\n",
    "plt.ylabel( 'Number of reviews' )\n",
    "plt.title( 'Number of Reviews per Day' )\n",
    "plt.tight_layout()\n",
    "plt.savefig(\"Number_of_Reviews_Per_Day.png\")\n",
    "plt.show()"
   ]
  },
  {
   "cell_type": "code",
   "execution_count": 15,
   "metadata": {},
   "outputs": [
    {
     "name": "stdout",
     "output_type": "stream",
     "text": [
      "Unique breweries\n",
      "By id: 5835\n",
      "By name: 5737\n"
     ]
    }
   ],
   "source": [
    "# Count of unique breweries => Integrity issues evidenced => Id is not considered for subsequent analysis\n",
    "print( 'Unique breweries' )\n",
    "print( 'By id:', beers_df[ 'brewery_id' ].nunique() )\n",
    "print( 'By name:', beers_df[ 'brewery_name' ].nunique() )"
   ]
  },
  {
   "cell_type": "code",
   "execution_count": 16,
   "metadata": {},
   "outputs": [
    {
     "name": "stdout",
     "output_type": "stream",
     "text": [
      "Unique beers\n",
      "By id: 65915\n",
      "By name: 56748\n"
     ]
    }
   ],
   "source": [
    "# Count of unique beers => Integrity issues evidenced => Id is not considered for subsequent analysis\n",
    "print( 'Unique beers' )\n",
    "print( 'By id:', beers_df[ 'beer_beerid' ].nunique() )\n",
    "print( 'By name:', beers_df[ 'beer_name' ].nunique() )"
   ]
  },
  {
   "cell_type": "code",
   "execution_count": 19,
   "metadata": {},
   "outputs": [
    {
     "name": "stdout",
     "output_type": "stream",
     "text": [
      "Unique users: 33374\n",
      "Unique users with more than 1 review: 22934 - 69.0%\n"
     ]
    }
   ],
   "source": [
    "# Count of unique users\n",
    "print( 'Unique users:', beers_df[ 'review_profilename' ].nunique() )\n",
    "print( 'Unique users with more than 1 review:', beers_df[ 'review_profilename' ].value_counts()[ beers_df[ 'review_profilename' ].value_counts() > 1 ].shape[ 0 ], '-' , str( round( beers_df[ 'review_profilename' ].value_counts()[ beers_df[ 'review_profilename' ].value_counts() > 1 ].shape[ 0 ] / beers_df[ 'review_profilename' ].nunique(), 2 ) * 100 ) + '%' )"
   ]
  },
  {
   "cell_type": "code",
   "execution_count": 20,
   "metadata": {},
   "outputs": [
    {
     "data": {
      "text/plain": [
       "northyorksammy    5817\n",
       "BuckeyeNation     4661\n",
       "mikesgroove       4617\n",
       "Thorpe429         3518\n",
       "womencantsail     3497\n",
       "Name: review_profilename, dtype: int64"
      ]
     },
     "execution_count": 20,
     "metadata": {},
     "output_type": "execute_result"
    }
   ],
   "source": [
    "# Reviews by user\n",
    "beers_df[ 'review_profilename' ].value_counts().head()"
   ]
  },
  {
   "cell_type": "code",
   "execution_count": 21,
   "metadata": {},
   "outputs": [],
   "source": [
    "# A beer subset removing review information is created \n",
    "grouped_beers_df = beers_df[ [ 'beer_name', 'brewery_name', 'beer_style', 'beer_abv' ] ].drop_duplicates()"
   ]
  },
  {
   "cell_type": "code",
   "execution_count": 22,
   "metadata": {},
   "outputs": [
    {
     "data": {
      "text/plain": [
       "(65728, 4)"
      ]
     },
     "execution_count": 22,
     "metadata": {},
     "output_type": "execute_result"
    }
   ],
   "source": [
    "# Count of unique beers in grouped dataset => Integrity issues evidenced with respect to previous analysis => For beer identification, I will use these 4 keys\n",
    "grouped_beers_df.shape"
   ]
  },
  {
   "cell_type": "code",
   "execution_count": 23,
   "metadata": {},
   "outputs": [
    {
     "data": {
      "text/plain": [
       "(11600, 4)"
      ]
     },
     "execution_count": 23,
     "metadata": {},
     "output_type": "execute_result"
    }
   ],
   "source": [
    "# Count of beers with the same name but different brewery, style or AVB%\n",
    "grouped_beers_df.loc[ grouped_beers_df.duplicated( subset = [ 'beer_name' ], keep = False ) ].sort_values( by = 'beer_name'  ).shape"
   ]
  },
  {
   "cell_type": "code",
   "execution_count": 24,
   "metadata": {},
   "outputs": [
    {
     "data": {
      "text/plain": [
       "Rock Bottom Restaurant & Brewery      875\n",
       "John Harvard's Brewery & Ale House    390\n",
       "Goose Island Beer Co.                 368\n",
       "Iron Hill Brewery & Restaurant        316\n",
       "Minneapolis Town Hall Brewery         312\n",
       "Name: brewery_name, dtype: int64"
      ]
     },
     "execution_count": 24,
     "metadata": {},
     "output_type": "execute_result"
    }
   ],
   "source": [
    "# Beers by brewery\n",
    "grouped_beers_df[ 'brewery_name' ].value_counts( dropna = False ).head()"
   ]
  },
  {
   "cell_type": "code",
   "execution_count": 25,
   "metadata": {},
   "outputs": [
    {
     "data": {
      "text/plain": [
       "American IPA                3592\n",
       "American Pale Ale (APA)     3311\n",
       "American Amber / Red Ale    2496\n",
       "American Porter             2180\n",
       "Fruit / Vegetable Beer      1826\n",
       "Name: beer_style, dtype: int64"
      ]
     },
     "execution_count": 25,
     "metadata": {},
     "output_type": "execute_result"
    }
   ],
   "source": [
    "# Beers by style\n",
    "grouped_beers_df[ 'beer_style' ].value_counts( dropna = False ).head()"
   ]
  },
  {
   "cell_type": "code",
   "execution_count": 27,
   "metadata": {},
   "outputs": [
    {
     "data": {
      "image/png": "[encoded data removed]",
      "text/plain": [
       "<Figure size 432x288 with 1 Axes>"
      ]
     },
     "metadata": {
      "needs_background": "light"
     },
     "output_type": "display_data"
    }
   ],
   "source": [
    "plt.figure()\n",
    "plt.hist( grouped_beers_df[ 'beer_abv' ], bins = 50 )\n",
    "plt.xlabel( 'ABV%' )\n",
    "plt.ylabel( 'Frecuency' )\n",
    "plt.title( 'Histogram by ABV%' )\n",
    "#plt.yscale( 'log' )\n",
    "plt.tight_layout()\n",
    "plt.savefig(\"Hist_By_ABV.png\")\n",
    "plt.show()"
   ]
  },
  {
   "cell_type": "code",
   "execution_count": 29,
   "metadata": {},
   "outputs": [
    {
     "data": {
      "image/png": "[encoded data removed]",
      "text/plain": [
       "<Figure size 432x288 with 2 Axes>"
      ]
     },
     "metadata": {
      "needs_background": "light"
     },
     "output_type": "display_data"
    }
   ],
   "source": [
    "# Pearson correlation\n",
    "sns.heatmap( beers_df[ [ 'review_overall', 'review_aroma', 'review_appearance', 'review_palate', 'review_taste', 'beer_abv' ] ].corr(), center = 0,  vmin = -1, vmax = 1 )\n",
    "plt.title( 'Pearson Correlation' )\n",
    "plt.tight_layout()\n",
    "plt.savefig(\"Pearson_Correlation.png\")"
   ]
  },
  {
   "cell_type": "code",
   "execution_count": 31,
   "metadata": {},
   "outputs": [
    {
     "data": {
      "image/png": "[encoded data removed]",
      "text/plain": [
       "<Figure size 432x288 with 2 Axes>"
      ]
     },
     "metadata": {
      "needs_background": "light"
     },
     "output_type": "display_data"
    }
   ],
   "source": [
    "# Spearman correlation\n",
    "sns.heatmap( beers_df[ [ 'review_overall', 'review_aroma', 'review_appearance', 'review_palate', 'review_taste', 'beer_abv' ] ].corr( method = 'spearman' ), center = 0,  vmin = -1, vmax = 1 )\n",
    "plt.title( 'Spearman Correlation' )\n",
    "plt.tight_layout()\n",
    "plt.savefig(\"Spearman_Correlation.png\")"
   ]
  },
  {
   "cell_type": "code",
   "execution_count": 32,
   "metadata": {},
   "outputs": [],
   "source": [
    "# An new meassure is created by averaging review by factor\n",
    "beers_df[ 'review_average' ] = round( ( ( beers_df[ 'review_overall' ] + beers_df[ 'review_aroma' ] + beers_df[ 'review_appearance' ] + beers_df[ 'review_palate' ] + beers_df[ 'review_taste' ] ) / 5 ) * 2 ) / 2"
   ]
  },
  {
   "cell_type": "code",
   "execution_count": 33,
   "metadata": {},
   "outputs": [],
   "source": [
    "# Groupping by different review factors for visualization purposes\n",
    "group_by_review_overall = beers_df[ 'review_overall' ].value_counts( dropna = False ).reset_index().rename( columns = { 'index' : 'review', 'review_overall' : 'overall' } ).sort_values( by = 'review' )\n",
    "group_by_review_aroma = beers_df[ 'review_aroma' ].value_counts( dropna = False ).reset_index().rename( columns = { 'index' : 'review', 'review_aroma' : 'aroma' } ).sort_values( by = 'review' )\n",
    "group_by_review_appearance = beers_df[ 'review_appearance' ].value_counts( dropna = False ).reset_index().rename( columns = { 'index' : 'review', 'review_appearance' : 'appearance' } ).sort_values( by = 'review' )\n",
    "group_by_review_palate = beers_df[ 'review_palate' ].value_counts( dropna = False ).reset_index().rename( columns = { 'index' : 'review', 'review_palate' : 'palate' } ).sort_values( by = 'review' )\n",
    "group_by_review_taste = beers_df[ 'review_taste' ].value_counts( dropna = False ).reset_index().rename( columns = { 'index' : 'review', 'review_taste' : 'taste' } ).sort_values( by = 'review' )\n",
    "group_by_review_average = beers_df[ 'review_average' ].value_counts( dropna = False ).reset_index().rename( columns = { 'index' : 'review', 'review_average' : 'average' } ).sort_values( by = 'review' )\n",
    "\n",
    "group_by_review_overall[ 'review' ] = group_by_review_overall[ 'review' ].astype( str )\n",
    "group_by_review_aroma[ 'review' ] = group_by_review_aroma[ 'review' ].astype( str )\n",
    "group_by_review_appearance[ 'review' ] = group_by_review_appearance[ 'review' ].astype( str )\n",
    "group_by_review_palate[ 'review' ] = group_by_review_palate[ 'review' ].astype( str )\n",
    "group_by_review_taste[ 'review' ] = group_by_review_taste[ 'review' ].astype( str )\n",
    "group_by_review_average[ 'review' ] = group_by_review_average[ 'review' ].astype( str )\n",
    "\n",
    "group_by_review = group_by_review_overall.merge( group_by_review_aroma, how = 'outer', on = [ 'review' ] )\n",
    "group_by_review = group_by_review.merge( group_by_review_appearance, how = 'outer', on = [ 'review' ] )\n",
    "group_by_review = group_by_review.merge( group_by_review_palate, how = 'outer', on = [ 'review' ] )\n",
    "group_by_review = group_by_review.merge( group_by_review_taste, how = 'outer', on = [ 'review' ] )\n",
    "group_by_review = group_by_review.merge( group_by_review_average, how = 'outer', on = [ 'review' ] )\n",
    "group_by_review = group_by_review.fillna( 0 )"
   ]
  },
  {
   "cell_type": "code",
   "execution_count": 34,
   "metadata": {},
   "outputs": [
    {
     "data": {
      "text/plain": [
       "Text(0.5, 0.98, 'Distribution of Reviews by Value')"
      ]
     },
     "execution_count": 34,
     "metadata": {},
     "output_type": "execute_result"
    },
    {
     "data": {
      "image/png": "[encoded data removed]",
      "text/plain": [
       "<Figure size 1224x720 with 6 Axes>"
      ]
     },
     "metadata": {
      "needs_background": "light"
     },
     "output_type": "display_data"
    }
   ],
   "source": [
    "cm = plt.cm.get_cmap( 'tab10' ).colors\n",
    "f, ( ( ax1, ax2, ax3 ), ( ax4, ax5, ax6 ) ) = plt.subplots( 2, 3, sharex = 'col', sharey = 'row', figsize = ( 17, 10 ) )\n",
    "ax1.barh( group_by_review[ 'review' ], group_by_review[ 'overall' ], color = cm )\n",
    "ax1.set_title( 'Review Overall' )\n",
    "ax2.barh( group_by_review[ 'review' ], group_by_review[ 'aroma' ], color = cm )\n",
    "ax2.set_title( 'Review Aroma' )\n",
    "ax3.barh( group_by_review[ 'review' ], group_by_review[ 'appearance' ], color = cm )\n",
    "ax3.set_title( 'Review Appearance' )\n",
    "ax4.barh( group_by_review[ 'review' ], group_by_review[ 'palate' ], color = cm )\n",
    "ax4.set_title( 'Review Palate' )\n",
    "ax5.barh( group_by_review[ 'review' ], group_by_review[ 'taste' ], color = cm )\n",
    "ax5.set_title( 'Review Taste' )\n",
    "ax6.barh( group_by_review[ 'review' ], group_by_review[ 'average' ], color = cm )\n",
    "ax6.set_title( 'Review Average' )\n",
    "f.suptitle( 'Distribution of Reviews by Value' )"
   ]
  },
  {
   "cell_type": "code",
   "execution_count": 35,
   "metadata": {},
   "outputs": [],
   "source": [
    "# This is a python implementarion of the Lower bound of Wilson score confidence interval for a Bernoulli parameter\n",
    "# Implementation details: http://www.evanmiller.org/how-not-to-sort-by-average-rating.html?fbclid=IwAR2RNIB8geL9V0V9ereqidgRMasdytDOoqlGfCKWOcrRHKsUHFzMb7Xkemw\n",
    "\n",
    "# pos: number of positive ratings\n",
    "# n: total number of ratings\n",
    "def ci_lower_bound( pos, n ):\n",
    "    if n == 0:\n",
    "        return 0\n",
    "    z = 1.96 # For a IC of 0.95\n",
    "    phat = 1.0 * pos / n\n",
    "    return ( phat + ( z ** 2 ) / ( 2 * n ) - z * math.sqrt( ( phat * ( 1 - phat ) + ( z ** 2 ) / ( 4 * n ) ) / n ) ) / ( 1 + ( z ** 2 ) / n )"
   ]
  },
  {
   "cell_type": "code",
   "execution_count": 36,
   "metadata": {},
   "outputs": [],
   "source": [
    "# Aggregation function for reviews\n",
    "# Positive reviews are defined as a constant fraction of their real value\n",
    "# Aggregation is performed using the Lower bound of Wilson score confidence interval for a Bernoulli parameter\n",
    "def agg_reviews( reviews ):\n",
    "    pos = 0\n",
    "    for index, review in reviews[ reviews >= 3 ].iteritems():\n",
    "        pos += review / 5\n",
    "    #pos = ratings[ ratings >= 3 ].shape[ 0 ]\n",
    "    return ci_lower_bound( pos, reviews.shape[ 0 ] ) * 5"
   ]
  },
  {
   "cell_type": "code",
   "execution_count": 37,
   "metadata": {},
   "outputs": [],
   "source": [
    "# Grouping beers and aggregating reviews\n",
    "grouped_beers_df = beers_df.groupby( [ 'beer_name', 'brewery_name', 'beer_style', 'beer_abv' ] ) \\\n",
    "    .agg( { 'review_overall' : agg_reviews, 'review_aroma' : agg_reviews, 'review_appearance' : agg_reviews, 'review_palate' : agg_reviews, 'review_taste' : agg_reviews, 'review_average' : agg_reviews, 'review_profilename' : 'count' } ).reset_index() \\\n",
    "    .rename( columns = { 'review_profilename' : 'number_of_reviews' } )"
   ]
  },
  {
   "cell_type": "code",
   "execution_count": 38,
   "metadata": {},
   "outputs": [
    {
     "data": {
      "text/plain": [
       "44061"
      ]
     },
     "execution_count": 38,
     "metadata": {},
     "output_type": "execute_result"
    }
   ],
   "source": [
    "# Count of unique beers\n",
    "grouped_beers_df[ 'beer_name' ].nunique()"
   ]
  },
  {
   "cell_type": "code",
   "execution_count": 39,
   "metadata": {},
   "outputs": [
    {
     "data": {
      "text/html": [
       "<div>\n",
       "<style scoped>\n",
       "    .dataframe tbody tr th:only-of-type {\n",
       "        vertical-align: middle;\n",
       "    }\n",
       "\n",
       "    .dataframe tbody tr th {\n",
       "        vertical-align: top;\n",
       "    }\n",
       "\n",
       "    .dataframe thead th {\n",
       "        text-align: right;\n",
       "    }\n",
       "</style>\n",
       "<table border=\"1\" class=\"dataframe\">\n",
       "  <thead>\n",
       "    <tr style=\"text-align: right;\">\n",
       "      <th></th>\n",
       "      <th>beer_name</th>\n",
       "      <th>brewery_name</th>\n",
       "      <th>beer_style</th>\n",
       "      <th>beer_abv</th>\n",
       "      <th>review_overall</th>\n",
       "      <th>review_aroma</th>\n",
       "      <th>review_appearance</th>\n",
       "      <th>review_palate</th>\n",
       "      <th>review_taste</th>\n",
       "      <th>review_average</th>\n",
       "      <th>number_of_reviews</th>\n",
       "    </tr>\n",
       "  </thead>\n",
       "  <tbody>\n",
       "    <tr>\n",
       "      <th>731</th>\n",
       "      <td>90 Minute IPA</td>\n",
       "      <td>Dogfish Head Brewery</td>\n",
       "      <td>American Double / Imperial IPA</td>\n",
       "      <td>9.0</td>\n",
       "      <td>4.020191</td>\n",
       "      <td>4.131679</td>\n",
       "      <td>4.121969</td>\n",
       "      <td>4.087696</td>\n",
       "      <td>4.223766</td>\n",
       "      <td>4.133715</td>\n",
       "      <td>3288</td>\n",
       "    </tr>\n",
       "    <tr>\n",
       "      <th>31841</th>\n",
       "      <td>Old Rasputin Russian Imperial Stout</td>\n",
       "      <td>North Coast Brewing Co.</td>\n",
       "      <td>Russian Imperial Stout</td>\n",
       "      <td>9.0</td>\n",
       "      <td>4.064484</td>\n",
       "      <td>4.116345</td>\n",
       "      <td>4.311672</td>\n",
       "      <td>4.145139</td>\n",
       "      <td>4.254089</td>\n",
       "      <td>4.188800</td>\n",
       "      <td>3097</td>\n",
       "    </tr>\n",
       "    <tr>\n",
       "      <th>39557</th>\n",
       "      <td>Sierra Nevada Celebration Ale</td>\n",
       "      <td>Sierra Nevada Brewing Co.</td>\n",
       "      <td>American IPA</td>\n",
       "      <td>6.8</td>\n",
       "      <td>4.054146</td>\n",
       "      <td>3.988222</td>\n",
       "      <td>4.150608</td>\n",
       "      <td>3.974983</td>\n",
       "      <td>4.080001</td>\n",
       "      <td>4.046394</td>\n",
       "      <td>2986</td>\n",
       "    </tr>\n",
       "    <tr>\n",
       "      <th>45123</th>\n",
       "      <td>Two Hearted Ale</td>\n",
       "      <td>Bell's Brewery, Inc.</td>\n",
       "      <td>American IPA</td>\n",
       "      <td>7.0</td>\n",
       "      <td>4.240870</td>\n",
       "      <td>4.186700</td>\n",
       "      <td>4.071694</td>\n",
       "      <td>4.046744</td>\n",
       "      <td>4.234592</td>\n",
       "      <td>4.168100</td>\n",
       "      <td>2726</td>\n",
       "    </tr>\n",
       "    <tr>\n",
       "      <th>41835</th>\n",
       "      <td>Stone Ruination IPA</td>\n",
       "      <td>Stone Brewing Co.</td>\n",
       "      <td>American Double / Imperial IPA</td>\n",
       "      <td>7.7</td>\n",
       "      <td>4.040809</td>\n",
       "      <td>4.264611</td>\n",
       "      <td>4.099740</td>\n",
       "      <td>4.099167</td>\n",
       "      <td>4.257311</td>\n",
       "      <td>4.165487</td>\n",
       "      <td>2702</td>\n",
       "    </tr>\n",
       "  </tbody>\n",
       "</table>\n",
       "</div>"
      ],
      "text/plain": [
       "                                 beer_name               brewery_name  \\\n",
       "731                          90 Minute IPA       Dogfish Head Brewery   \n",
       "31841  Old Rasputin Russian Imperial Stout    North Coast Brewing Co.   \n",
       "39557        Sierra Nevada Celebration Ale  Sierra Nevada Brewing Co.   \n",
       "45123                      Two Hearted Ale       Bell's Brewery, Inc.   \n",
       "41835                  Stone Ruination IPA          Stone Brewing Co.   \n",
       "\n",
       "                           beer_style  beer_abv  review_overall  review_aroma  \\\n",
       "731    American Double / Imperial IPA       9.0        4.020191      4.131679   \n",
       "31841          Russian Imperial Stout       9.0        4.064484      4.116345   \n",
       "39557                    American IPA       6.8        4.054146      3.988222   \n",
       "45123                    American IPA       7.0        4.240870      4.186700   \n",
       "41835  American Double / Imperial IPA       7.7        4.040809      4.264611   \n",
       "\n",
       "       review_appearance  review_palate  review_taste  review_average  \\\n",
       "731             4.121969       4.087696      4.223766        4.133715   \n",
       "31841           4.311672       4.145139      4.254089        4.188800   \n",
       "39557           4.150608       3.974983      4.080001        4.046394   \n",
       "45123           4.071694       4.046744      4.234592        4.168100   \n",
       "41835           4.099740       4.099167      4.257311        4.165487   \n",
       "\n",
       "       number_of_reviews  \n",
       "731                 3288  \n",
       "31841               3097  \n",
       "39557               2986  \n",
       "45123               2726  \n",
       "41835               2702  "
      ]
     },
     "execution_count": 39,
     "metadata": {},
     "output_type": "execute_result"
    }
   ],
   "source": [
    "# TOP 5 beers by number of reviews\n",
    "grouped_beers_df.sort_values( by = 'number_of_reviews', ascending = False ).head()"
   ]
  },
  {
   "cell_type": "code",
   "execution_count": 40,
   "metadata": {},
   "outputs": [
    {
     "data": {
      "text/html": [
       "<div>\n",
       "<style scoped>\n",
       "    .dataframe tbody tr th:only-of-type {\n",
       "        vertical-align: middle;\n",
       "    }\n",
       "\n",
       "    .dataframe tbody tr th {\n",
       "        vertical-align: top;\n",
       "    }\n",
       "\n",
       "    .dataframe thead th {\n",
       "        text-align: right;\n",
       "    }\n",
       "</style>\n",
       "<table border=\"1\" class=\"dataframe\">\n",
       "  <thead>\n",
       "    <tr style=\"text-align: right;\">\n",
       "      <th></th>\n",
       "      <th>brewery_name</th>\n",
       "      <th>beer_name</th>\n",
       "      <th>beer_abv</th>\n",
       "    </tr>\n",
       "  </thead>\n",
       "  <tbody>\n",
       "    <tr>\n",
       "      <th>38654</th>\n",
       "      <td>Schorschbräu</td>\n",
       "      <td>Schorschbräu Schorschbock 57%</td>\n",
       "      <td>57.70</td>\n",
       "    </tr>\n",
       "    <tr>\n",
       "      <th>38653</th>\n",
       "      <td>Schorschbräu</td>\n",
       "      <td>Schorschbräu Schorschbock 43%</td>\n",
       "      <td>43.00</td>\n",
       "    </tr>\n",
       "    <tr>\n",
       "      <th>39782</th>\n",
       "      <td>BrewDog</td>\n",
       "      <td>Sink The Bismarck!</td>\n",
       "      <td>41.00</td>\n",
       "    </tr>\n",
       "    <tr>\n",
       "      <th>38652</th>\n",
       "      <td>Schorschbräu</td>\n",
       "      <td>Schorschbräu Schorschbock 40%</td>\n",
       "      <td>39.44</td>\n",
       "    </tr>\n",
       "    <tr>\n",
       "      <th>5796</th>\n",
       "      <td>De Struise Brouwers</td>\n",
       "      <td>Black Damnation VI - Messy</td>\n",
       "      <td>39.00</td>\n",
       "    </tr>\n",
       "    <tr>\n",
       "      <th>42915</th>\n",
       "      <td>BrewDog</td>\n",
       "      <td>Tactical Nuclear Penguin</td>\n",
       "      <td>32.00</td>\n",
       "    </tr>\n",
       "    <tr>\n",
       "      <th>38651</th>\n",
       "      <td>Schorschbräu</td>\n",
       "      <td>Schorschbräu Schorschbock 31%</td>\n",
       "      <td>30.86</td>\n",
       "    </tr>\n",
       "  </tbody>\n",
       "</table>\n",
       "</div>"
      ],
      "text/plain": [
       "              brewery_name                      beer_name  beer_abv\n",
       "38654         Schorschbräu  Schorschbräu Schorschbock 57%     57.70\n",
       "38653         Schorschbräu  Schorschbräu Schorschbock 43%     43.00\n",
       "39782              BrewDog             Sink The Bismarck!     41.00\n",
       "38652         Schorschbräu  Schorschbräu Schorschbock 40%     39.44\n",
       "5796   De Struise Brouwers     Black Damnation VI - Messy     39.00\n",
       "42915              BrewDog       Tactical Nuclear Penguin     32.00\n",
       "38651         Schorschbräu  Schorschbräu Schorschbock 31%     30.86"
      ]
     },
     "execution_count": 40,
     "metadata": {},
     "output_type": "execute_result"
    }
   ],
   "source": [
    "# Beers with ABV% higher than 30\n",
    "grouped_beers_df.loc[ grouped_beers_df[ 'beer_abv' ] > 30 ] \\\n",
    "    .sort_values( by = [ 'beer_abv' ], ascending = False )[ [ 'brewery_name', 'beer_name', 'beer_abv' ] ]"
   ]
  },
  {
   "cell_type": "code",
   "execution_count": null,
   "metadata": {},
   "outputs": [],
   "source": [
    "## If you had to pick 3 beers to recommend using only this data, which would you pick?\n",
    "## Reviews after grouping are in function of individual reviews given by each user \n",
    "## and number of reviews for that beer. Beers with many high individual ratings likely \n",
    "## will have a high grouped review."
   ]
  },
  {
   "cell_type": "code",
   "execution_count": 42,
   "metadata": {},
   "outputs": [
    {
     "data": {
      "image/png": "[encoded data removed]",
      "text/plain": [
       "<Figure size 504x360 with 1 Axes>"
      ]
     },
     "metadata": {
      "needs_background": "light"
     },
     "output_type": "display_data"
    }
   ],
   "source": [
    "plt.figure( figsize = ( 7, 5 ) )\n",
    "plt.scatter( grouped_beers_df[ 'number_of_reviews' ], grouped_beers_df[ 'review_average' ], marker ='.', alpha = .5 )\n",
    "plt.xlabel( 'Number of Reviews' )\n",
    "plt.ylabel( 'Review Average' )\n",
    "plt.tight_layout()\n",
    "plt.savefig(\"#ofReviews_ReviewAverage.png\")\n",
    "plt.show()"
   ]
  },
  {
   "cell_type": "code",
   "execution_count": 43,
   "metadata": {},
   "outputs": [
    {
     "data": {
      "text/html": [
       "<div>\n",
       "<style scoped>\n",
       "    .dataframe tbody tr th:only-of-type {\n",
       "        vertical-align: middle;\n",
       "    }\n",
       "\n",
       "    .dataframe tbody tr th {\n",
       "        vertical-align: top;\n",
       "    }\n",
       "\n",
       "    .dataframe thead th {\n",
       "        text-align: right;\n",
       "    }\n",
       "</style>\n",
       "<table border=\"1\" class=\"dataframe\">\n",
       "  <thead>\n",
       "    <tr style=\"text-align: right;\">\n",
       "      <th></th>\n",
       "      <th>beer_name</th>\n",
       "      <th>brewery_name</th>\n",
       "      <th>beer_style</th>\n",
       "      <th>beer_abv</th>\n",
       "      <th>review_overall</th>\n",
       "      <th>review_aroma</th>\n",
       "      <th>review_appearance</th>\n",
       "      <th>review_palate</th>\n",
       "      <th>review_taste</th>\n",
       "      <th>review_average</th>\n",
       "      <th>number_of_reviews</th>\n",
       "    </tr>\n",
       "  </thead>\n",
       "  <tbody>\n",
       "    <tr>\n",
       "      <th>44523</th>\n",
       "      <td>Trappist Westvleteren 12</td>\n",
       "      <td>Brouwerij Westvleteren (Sint-Sixtusabdij van W...</td>\n",
       "      <td>Quadrupel (Quad)</td>\n",
       "      <td>10.2</td>\n",
       "      <td>4.530716</td>\n",
       "      <td>4.495034</td>\n",
       "      <td>4.354817</td>\n",
       "      <td>4.539659</td>\n",
       "      <td>4.646554</td>\n",
       "      <td>4.524758</td>\n",
       "      <td>1272</td>\n",
       "    </tr>\n",
       "    <tr>\n",
       "      <th>34257</th>\n",
       "      <td>Pliny The Younger</td>\n",
       "      <td>Russian River Brewing Company</td>\n",
       "      <td>American Double / Imperial IPA</td>\n",
       "      <td>11.0</td>\n",
       "      <td>4.474180</td>\n",
       "      <td>4.618422</td>\n",
       "      <td>4.349282</td>\n",
       "      <td>4.492465</td>\n",
       "      <td>4.615607</td>\n",
       "      <td>4.523674</td>\n",
       "      <td>610</td>\n",
       "    </tr>\n",
       "    <tr>\n",
       "      <th>34256</th>\n",
       "      <td>Pliny The Elder</td>\n",
       "      <td>Russian River Brewing Company</td>\n",
       "      <td>American Double / Imperial IPA</td>\n",
       "      <td>8.0</td>\n",
       "      <td>4.525157</td>\n",
       "      <td>4.555939</td>\n",
       "      <td>4.317931</td>\n",
       "      <td>4.380363</td>\n",
       "      <td>4.569367</td>\n",
       "      <td>4.478398</td>\n",
       "      <td>2527</td>\n",
       "    </tr>\n",
       "  </tbody>\n",
       "</table>\n",
       "</div>"
      ],
      "text/plain": [
       "                      beer_name  \\\n",
       "44523  Trappist Westvleteren 12   \n",
       "34257         Pliny The Younger   \n",
       "34256           Pliny The Elder   \n",
       "\n",
       "                                            brewery_name  \\\n",
       "44523  Brouwerij Westvleteren (Sint-Sixtusabdij van W...   \n",
       "34257                      Russian River Brewing Company   \n",
       "34256                      Russian River Brewing Company   \n",
       "\n",
       "                           beer_style  beer_abv  review_overall  review_aroma  \\\n",
       "44523                Quadrupel (Quad)      10.2        4.530716      4.495034   \n",
       "34257  American Double / Imperial IPA      11.0        4.474180      4.618422   \n",
       "34256  American Double / Imperial IPA       8.0        4.525157      4.555939   \n",
       "\n",
       "       review_appearance  review_palate  review_taste  review_average  \\\n",
       "44523           4.354817       4.539659      4.646554        4.524758   \n",
       "34257           4.349282       4.492465      4.615607        4.523674   \n",
       "34256           4.317931       4.380363      4.569367        4.478398   \n",
       "\n",
       "       number_of_reviews  \n",
       "44523               1272  \n",
       "34257                610  \n",
       "34256               2527  "
      ]
     },
     "execution_count": 43,
     "metadata": {},
     "output_type": "execute_result"
    }
   ],
   "source": [
    "grouped_beers_df.sort_values( by = 'review_average', ascending = False ).head( 3 )"
   ]
  },
  {
   "cell_type": "code",
   "execution_count": 44,
   "metadata": {},
   "outputs": [],
   "source": [
    "# Which of the factors (aroma, taste, appearance, palate) are most important \n",
    "# in determining the overall quality of a beer?\n",
    "# In terms of correlation (pearson or spearman), the ranking seems to be: \n",
    "# taste, palate, aroma and appearance.\n",
    "\n",
    "# A most sofisticated perspective can be training a linear regression model."
   ]
  },
  {
   "cell_type": "code",
   "execution_count": 45,
   "metadata": {},
   "outputs": [],
   "source": [
    "# Defining the linear model\n",
    "linear_model = LinearRegression( normalize = True )"
   ]
  },
  {
   "cell_type": "code",
   "execution_count": 46,
   "metadata": {},
   "outputs": [],
   "source": [
    "# Training and generating predictions for the model\n",
    "linear_model.fit( X = beers_df[ [ 'review_aroma', 'review_appearance', 'review_palate', 'review_taste' ] ], y = beers_df[ 'review_overall' ] )\n",
    "preds = linear_model.predict( beers_df[ [ 'review_aroma', 'review_appearance', 'review_palate', 'review_taste' ] ] )"
   ]
  },
  {
   "cell_type": "code",
   "execution_count": 47,
   "metadata": {},
   "outputs": [
    {
     "data": {
      "text/plain": [
       "0.42136593232122693"
      ]
     },
     "execution_count": 47,
     "metadata": {},
     "output_type": "execute_result"
    }
   ],
   "source": [
    "# Validating the error in the model\n",
    "# Apparently, a linear model is enough to represent the phenomenon evidencing a global error of 0.42 when the range of possible values for the target is betwenn 0 and 5\n",
    "# Most sophisitcated validation schemas must be developed\n",
    "np.sqrt( mean_squared_error( beers_df[ 'review_overall' ], preds ) )"
   ]
  },
  {
   "cell_type": "code",
   "execution_count": 48,
   "metadata": {},
   "outputs": [
    {
     "data": {
      "text/plain": [
       "['American Double / Imperial IPA',\n",
       " 'American Double / Imperial Stout',\n",
       " 'Quadrupel (Quad)',\n",
       " 'Russian Imperial Stout']"
      ]
     },
     "execution_count": 48,
     "metadata": {},
     "output_type": "execute_result"
    }
   ],
   "source": [
    "grouped_beers_df.sort_values( by = [ 'review_aroma', 'review_appearance' ], ascending = False ).head( 10 ) \\\n",
    "    [ 'beer_style' ].unique().tolist()"
   ]
  },
  {
   "cell_type": "code",
   "execution_count": null,
   "metadata": {},
   "outputs": [],
   "source": []
  }
 ],
 "metadata": {
  "kernelspec": {
   "display_name": "Python 3",
   "language": "python",
   "name": "python3"
  },
  "language_info": {
   "codemirror_mode": {
    "name": "ipython",
    "version": 3
   },
   "file_extension": ".py",
   "mimetype": "text/x-python",
   "name": "python",
   "nbconvert_exporter": "python",
   "pygments_lexer": "ipython3",
   "version": "3.7.6"
  }
 },
 "nbformat": 4,
 "nbformat_minor": 4
}
