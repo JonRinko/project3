{
 "cells": [
  {
   "cell_type": "code",
   "execution_count": 1,
   "metadata": {
    "nbgrader": {
     "grade": false,
     "grade_id": "cell-195a16dbc662c53b",
     "locked": true,
     "schema_version": 1,
     "solution": false
    }
   },
   "outputs": [],
   "source": [
    "# %matplotlib inline\n",
    "import matplotlib.pyplot as plt\n",
    "import numpy as np\n",
    "import pandas as pd\n",
    "import pyspark\n",
    "from pyspark import SparkContext, SparkConf\n",
    "from pyspark.sql import SparkSession\n",
    "conf = pyspark.SparkConf().setAppName('appName').setMaster('local')\n",
    "sc = pyspark.SparkContext(conf=conf)\n",
    "spark = SparkSession(sc)\n",
    "# from sklearn.model_selection import train_test_split"
   ]
  },
  {
   "cell_type": "code",
   "execution_count": 2,
   "metadata": {},
   "outputs": [],
   "source": [
    "from pyspark.ml.feature import Tokenizer, StopWordsRemover, HashingTF, IDF, StringIndexer\n",
    "from pyspark.sql.functions import col, udf, length\n",
    "from pyspark.sql.types import IntegerType\n",
    "\n",
    "# Create all the features to the data set\n",
    "pos_neg_to_num = StringIndexer(inputCol='class',outputCol='label')\n",
    "tokenizer = Tokenizer(inputCol=\"text\", outputCol=\"token_text\")\n",
    "stopremove = StopWordsRemover(inputCol='token_text',outputCol='stop_tokens')\n",
    "hashingTF = HashingTF(inputCol=\"token_text\", outputCol='hash_token')\n",
    "idf = IDF(inputCol='hash_token', outputCol='idf_token')"
   ]
  },
  {
   "cell_type": "code",
   "execution_count": 3,
   "metadata": {},
   "outputs": [
    {
     "ename": "ImportError",
     "evalue": "cannot import name 'NaiveBayes' from 'pyspark.ml.feature' (C:\\Users\\m246172\\Anaconda\\lib\\site-packages\\pyspark\\ml\\feature.py)",
     "output_type": "error",
     "traceback": [
      "\u001b[1;31m---------------------------------------------------------------------------\u001b[0m",
      "\u001b[1;31mImportError\u001b[0m                               Traceback (most recent call last)",
      "\u001b[1;32m<ipython-input-3-677e27915c89>\u001b[0m in \u001b[0;36m<module>\u001b[1;34m\u001b[0m\n\u001b[1;32m----> 1\u001b[1;33m \u001b[1;32mfrom\u001b[0m \u001b[0mpyspark\u001b[0m\u001b[1;33m.\u001b[0m\u001b[0mml\u001b[0m\u001b[1;33m.\u001b[0m\u001b[0mfeature\u001b[0m \u001b[1;32mimport\u001b[0m \u001b[0mNaiveBayes\u001b[0m\u001b[1;33m\u001b[0m\u001b[1;33m\u001b[0m\u001b[0m\n\u001b[0m",
      "\u001b[1;31mImportError\u001b[0m: cannot import name 'NaiveBayes' from 'pyspark.ml.feature' (C:\\Users\\m246172\\Anaconda\\lib\\site-packages\\pyspark\\ml\\feature.py)"
     ]
    }
   ],
   "source": [
    "from pyspark.ml.feature import NaiveBayes"
   ]
  },
  {
   "cell_type": "code",
   "execution_count": 4,
   "metadata": {},
   "outputs": [],
   "source": [
    "from pyspark.ml.feature import VectorAssembler\n",
    "from pyspark.ml.linalg import Vector\n",
    "\n",
    "# Create feature vectors\n",
    "clean_up = VectorAssembler(inputCols=['idf_token', 'length'], outputCol='features')"
   ]
  },
  {
   "cell_type": "markdown",
   "metadata": {},
   "source": [
    "## Dataset: MERGED.csv (concat of 7 beer review scrapes from ratebeer.com)\n",
    "\n",
    "1. Read in the file containing Beer reviews.\n",
    "2. Create a column that adds the length of the review as a feature.\n",
    "3. Create a list of transformations to be applied in the pipeline:\n",
    "   * Change positive and negative to an index.\n",
    "   * Tokenize the review.\n",
    "   * Filter out stop words.\n",
    "   * Calculate term frequency using `HashingTF`.\n",
    "   * Calculate TF–IDF.\n",
    "4. Create a feature vector containing the output from the IDFModel (the last stage in the pipeline) and the length.\n",
    "   * Set up the pipeline and and fit it to the data.\n",
    "   * Create training and testing data.\n",
    "   * Create and fit the Naive Bayes model to the training data.\n",
    "   * Predict outcomes using the testing set.\n",
    "   * Use `MulticlassClassificationEvaluator` to evaluate the model on the testing set.\n",
    "**Hypothesis**: Can we predict NEGATIVE/POSITIVE sentiment from text of beer reviews website?\n"
   ]
  },
  {
   "cell_type": "code",
   "execution_count": 5,
   "metadata": {},
   "outputs": [],
   "source": [
    "# Create a and run a data processing Pipeline\n",
    "from pyspark.ml import Pipeline\n",
    "data_prep_pipeline = Pipeline(stages=[pos_neg_to_num, tokenizer, stopremove, hashingTF, idf, clean_up])"
   ]
  },
  {
   "cell_type": "code",
   "execution_count": 6,
   "metadata": {},
   "outputs": [
    {
     "data": {
      "text/html": [
       "<div>\n",
       "<style scoped>\n",
       "    .dataframe tbody tr th:only-of-type {\n",
       "        vertical-align: middle;\n",
       "    }\n",
       "\n",
       "    .dataframe tbody tr th {\n",
       "        vertical-align: top;\n",
       "    }\n",
       "\n",
       "    .dataframe thead th {\n",
       "        text-align: right;\n",
       "    }\n",
       "</style>\n",
       "<table border=\"1\" class=\"dataframe\">\n",
       "  <thead>\n",
       "    <tr style=\"text-align: right;\">\n",
       "      <th></th>\n",
       "      <th>Unnamed: 0</th>\n",
       "      <th>Beer Names</th>\n",
       "      <th>Rating</th>\n",
       "      <th>Locations</th>\n",
       "      <th>Reviews</th>\n",
       "      <th>Users</th>\n",
       "    </tr>\n",
       "  </thead>\n",
       "  <tbody>\n",
       "    <tr>\n",
       "      <th>0</th>\n",
       "      <td>1</td>\n",
       "      <td>Beamish Irish Stout</td>\n",
       "      <td>5.0</td>\n",
       "      <td>Cork, Ireland</td>\n",
       "      <td>\"il solito\" al pub che frequento di più era la...</td>\n",
       "      <td>flogisto</td>\n",
       "    </tr>\n",
       "    <tr>\n",
       "      <th>1</th>\n",
       "      <td>2</td>\n",
       "      <td>Simpler Times Pilsner</td>\n",
       "      <td>0.6</td>\n",
       "      <td>Monrovia, California</td>\n",
       "      <td>Jesus this is bad. Not sure what discriminates...</td>\n",
       "      <td>PhillyBeer2112</td>\n",
       "    </tr>\n",
       "    <tr>\n",
       "      <th>2</th>\n",
       "      <td>3</td>\n",
       "      <td>Revolution Fistmas Ale</td>\n",
       "      <td>1.9</td>\n",
       "      <td>Chicago, Illinois</td>\n",
       "      <td>HAHA, funny name and interesting can from chal...</td>\n",
       "      <td>cheap</td>\n",
       "    </tr>\n",
       "    <tr>\n",
       "      <th>3</th>\n",
       "      <td>4</td>\n",
       "      <td>Samuel Adams Utopias</td>\n",
       "      <td>2.0</td>\n",
       "      <td>Boston, Massachusetts</td>\n",
       "      <td>Mildly syrupy, but not overly sweet. Woody and...</td>\n",
       "      <td>tryeverything</td>\n",
       "    </tr>\n",
       "    <tr>\n",
       "      <th>4</th>\n",
       "      <td>5</td>\n",
       "      <td>Ora Limoncello IPA</td>\n",
       "      <td>1.4</td>\n",
       "      <td>Tottenham, Greater London</td>\n",
       "      <td>På GBBF Winter 2020 i Birmingham. Delt med Run...</td>\n",
       "      <td>Finn</td>\n",
       "    </tr>\n",
       "  </tbody>\n",
       "</table>\n",
       "</div>"
      ],
      "text/plain": [
       "   Unnamed: 0              Beer Names  Rating                  Locations  \\\n",
       "0           1     Beamish Irish Stout     5.0              Cork, Ireland   \n",
       "1           2   Simpler Times Pilsner     0.6       Monrovia, California   \n",
       "2           3  Revolution Fistmas Ale     1.9          Chicago, Illinois   \n",
       "3           4    Samuel Adams Utopias     2.0      Boston, Massachusetts   \n",
       "4           5      Ora Limoncello IPA     1.4  Tottenham, Greater London   \n",
       "\n",
       "                                             Reviews           Users  \n",
       "0  \"il solito\" al pub che frequento di più era la...        flogisto  \n",
       "1  Jesus this is bad. Not sure what discriminates...  PhillyBeer2112  \n",
       "2  HAHA, funny name and interesting can from chal...           cheap  \n",
       "3  Mildly syrupy, but not overly sweet. Woody and...   tryeverything  \n",
       "4  På GBBF Winter 2020 i Birmingham. Delt med Run...            Finn  "
      ]
     },
     "execution_count": 6,
     "metadata": {},
     "output_type": "execute_result"
    }
   ],
   "source": [
    "# Read the csv file into a pandas DataFrame\n",
    "\n",
    "beer = pd.read_csv('MERGED.csv')\n",
    "beer.head()"
   ]
  },
  {
   "cell_type": "code",
   "execution_count": 14,
   "metadata": {},
   "outputs": [],
   "source": [
    "sparkbeer=spark.createDataFrame(beer.astype(str))"
   ]
  },
  {
   "cell_type": "code",
   "execution_count": 15,
   "metadata": {},
   "outputs": [
    {
     "data": {
      "text/plain": [
       "pyspark.sql.dataframe.DataFrame"
      ]
     },
     "execution_count": 15,
     "metadata": {},
     "output_type": "execute_result"
    }
   ],
   "source": [
    "type(sparkbeer)"
   ]
  },
  {
   "cell_type": "code",
   "execution_count": 16,
   "metadata": {},
   "outputs": [
    {
     "ename": "IllegalArgumentException",
     "evalue": "'Field \"class\" does not exist.\\nAvailable fields: Unnamed: 0, Beer Names, Rating, Locations, Reviews, Users'",
     "output_type": "error",
     "traceback": [
      "\u001b[1;31m---------------------------------------------------------------------------\u001b[0m",
      "\u001b[1;31mPy4JJavaError\u001b[0m                             Traceback (most recent call last)",
      "\u001b[1;32m~\\Anaconda\\lib\\site-packages\\pyspark\\sql\\utils.py\u001b[0m in \u001b[0;36mdeco\u001b[1;34m(*a, **kw)\u001b[0m\n\u001b[0;32m     62\u001b[0m         \u001b[1;32mtry\u001b[0m\u001b[1;33m:\u001b[0m\u001b[1;33m\u001b[0m\u001b[1;33m\u001b[0m\u001b[0m\n\u001b[1;32m---> 63\u001b[1;33m             \u001b[1;32mreturn\u001b[0m \u001b[0mf\u001b[0m\u001b[1;33m(\u001b[0m\u001b[1;33m*\u001b[0m\u001b[0ma\u001b[0m\u001b[1;33m,\u001b[0m \u001b[1;33m**\u001b[0m\u001b[0mkw\u001b[0m\u001b[1;33m)\u001b[0m\u001b[1;33m\u001b[0m\u001b[1;33m\u001b[0m\u001b[0m\n\u001b[0m\u001b[0;32m     64\u001b[0m         \u001b[1;32mexcept\u001b[0m \u001b[0mpy4j\u001b[0m\u001b[1;33m.\u001b[0m\u001b[0mprotocol\u001b[0m\u001b[1;33m.\u001b[0m\u001b[0mPy4JJavaError\u001b[0m \u001b[1;32mas\u001b[0m \u001b[0me\u001b[0m\u001b[1;33m:\u001b[0m\u001b[1;33m\u001b[0m\u001b[1;33m\u001b[0m\u001b[0m\n",
      "\u001b[1;32m~\\Anaconda\\lib\\site-packages\\py4j\\protocol.py\u001b[0m in \u001b[0;36mget_return_value\u001b[1;34m(answer, gateway_client, target_id, name)\u001b[0m\n\u001b[0;32m    327\u001b[0m                     \u001b[1;34m\"An error occurred while calling {0}{1}{2}.\\n\"\u001b[0m\u001b[1;33m.\u001b[0m\u001b[1;33m\u001b[0m\u001b[1;33m\u001b[0m\u001b[0m\n\u001b[1;32m--> 328\u001b[1;33m                     format(target_id, \".\", name), value)\n\u001b[0m\u001b[0;32m    329\u001b[0m             \u001b[1;32melse\u001b[0m\u001b[1;33m:\u001b[0m\u001b[1;33m\u001b[0m\u001b[1;33m\u001b[0m\u001b[0m\n",
      "\u001b[1;31mPy4JJavaError\u001b[0m: An error occurred while calling o24.fit.\n: java.lang.IllegalArgumentException: Field \"class\" does not exist.\nAvailable fields: Unnamed: 0, Beer Names, Rating, Locations, Reviews, Users\r\n\tat org.apache.spark.sql.types.StructType$$anonfun$apply$1.apply(StructType.scala:274)\r\n\tat org.apache.spark.sql.types.StructType$$anonfun$apply$1.apply(StructType.scala:274)\r\n\tat scala.collection.MapLike$class.getOrElse(MapLike.scala:128)\r\n\tat scala.collection.AbstractMap.getOrElse(Map.scala:59)\r\n\tat org.apache.spark.sql.types.StructType.apply(StructType.scala:273)\r\n\tat org.apache.spark.ml.feature.StringIndexerBase$class.validateAndTransformSchema(StringIndexer.scala:85)\r\n\tat org.apache.spark.ml.feature.StringIndexer.validateAndTransformSchema(StringIndexer.scala:109)\r\n\tat org.apache.spark.ml.feature.StringIndexer.transformSchema(StringIndexer.scala:152)\r\n\tat org.apache.spark.ml.PipelineStage.transformSchema(Pipeline.scala:74)\r\n\tat org.apache.spark.ml.feature.StringIndexer.fit(StringIndexer.scala:135)\r\n\tat sun.reflect.NativeMethodAccessorImpl.invoke0(Native Method)\r\n\tat sun.reflect.NativeMethodAccessorImpl.invoke(Unknown Source)\r\n\tat sun.reflect.DelegatingMethodAccessorImpl.invoke(Unknown Source)\r\n\tat java.lang.reflect.Method.invoke(Unknown Source)\r\n\tat py4j.reflection.MethodInvoker.invoke(MethodInvoker.java:244)\r\n\tat py4j.reflection.ReflectionEngine.invoke(ReflectionEngine.java:357)\r\n\tat py4j.Gateway.invoke(Gateway.java:282)\r\n\tat py4j.commands.AbstractCommand.invokeMethod(AbstractCommand.java:132)\r\n\tat py4j.commands.CallCommand.execute(CallCommand.java:79)\r\n\tat py4j.GatewayConnection.run(GatewayConnection.java:238)\r\n\tat java.lang.Thread.run(Unknown Source)\r\n",
      "\nDuring handling of the above exception, another exception occurred:\n",
      "\u001b[1;31mIllegalArgumentException\u001b[0m                  Traceback (most recent call last)",
      "\u001b[1;32m<ipython-input-16-c093dc6dc2fb>\u001b[0m in \u001b[0;36m<module>\u001b[1;34m\u001b[0m\n\u001b[0;32m      1\u001b[0m \u001b[1;31m# Fit and transform the pipeline\u001b[0m\u001b[1;33m\u001b[0m\u001b[1;33m\u001b[0m\u001b[1;33m\u001b[0m\u001b[0m\n\u001b[1;32m----> 2\u001b[1;33m \u001b[0mcleaner\u001b[0m \u001b[1;33m=\u001b[0m \u001b[0mdata_prep_pipeline\u001b[0m\u001b[1;33m.\u001b[0m\u001b[0mfit\u001b[0m\u001b[1;33m(\u001b[0m\u001b[0msparkbeer\u001b[0m\u001b[1;33m)\u001b[0m\u001b[1;33m\u001b[0m\u001b[1;33m\u001b[0m\u001b[0m\n\u001b[0m\u001b[0;32m      3\u001b[0m \u001b[0mcleaned\u001b[0m \u001b[1;33m=\u001b[0m \u001b[0mcleaner\u001b[0m\u001b[1;33m.\u001b[0m\u001b[0mtransform\u001b[0m\u001b[1;33m(\u001b[0m\u001b[0msparkbeer\u001b[0m\u001b[1;33m)\u001b[0m\u001b[1;33m\u001b[0m\u001b[1;33m\u001b[0m\u001b[0m\n",
      "\u001b[1;32m~\\Anaconda\\lib\\site-packages\\pyspark\\ml\\base.py\u001b[0m in \u001b[0;36mfit\u001b[1;34m(self, dataset, params)\u001b[0m\n\u001b[0;32m    130\u001b[0m                 \u001b[1;32mreturn\u001b[0m \u001b[0mself\u001b[0m\u001b[1;33m.\u001b[0m\u001b[0mcopy\u001b[0m\u001b[1;33m(\u001b[0m\u001b[0mparams\u001b[0m\u001b[1;33m)\u001b[0m\u001b[1;33m.\u001b[0m\u001b[0m_fit\u001b[0m\u001b[1;33m(\u001b[0m\u001b[0mdataset\u001b[0m\u001b[1;33m)\u001b[0m\u001b[1;33m\u001b[0m\u001b[1;33m\u001b[0m\u001b[0m\n\u001b[0;32m    131\u001b[0m             \u001b[1;32melse\u001b[0m\u001b[1;33m:\u001b[0m\u001b[1;33m\u001b[0m\u001b[1;33m\u001b[0m\u001b[0m\n\u001b[1;32m--> 132\u001b[1;33m                 \u001b[1;32mreturn\u001b[0m \u001b[0mself\u001b[0m\u001b[1;33m.\u001b[0m\u001b[0m_fit\u001b[0m\u001b[1;33m(\u001b[0m\u001b[0mdataset\u001b[0m\u001b[1;33m)\u001b[0m\u001b[1;33m\u001b[0m\u001b[1;33m\u001b[0m\u001b[0m\n\u001b[0m\u001b[0;32m    133\u001b[0m         \u001b[1;32melse\u001b[0m\u001b[1;33m:\u001b[0m\u001b[1;33m\u001b[0m\u001b[1;33m\u001b[0m\u001b[0m\n\u001b[0;32m    134\u001b[0m             raise ValueError(\"Params must be either a param map or a list/tuple of param maps, \"\n",
      "\u001b[1;32m~\\Anaconda\\lib\\site-packages\\pyspark\\ml\\pipeline.py\u001b[0m in \u001b[0;36m_fit\u001b[1;34m(self, dataset)\u001b[0m\n\u001b[0;32m    107\u001b[0m                     \u001b[0mdataset\u001b[0m \u001b[1;33m=\u001b[0m \u001b[0mstage\u001b[0m\u001b[1;33m.\u001b[0m\u001b[0mtransform\u001b[0m\u001b[1;33m(\u001b[0m\u001b[0mdataset\u001b[0m\u001b[1;33m)\u001b[0m\u001b[1;33m\u001b[0m\u001b[1;33m\u001b[0m\u001b[0m\n\u001b[0;32m    108\u001b[0m                 \u001b[1;32melse\u001b[0m\u001b[1;33m:\u001b[0m  \u001b[1;31m# must be an Estimator\u001b[0m\u001b[1;33m\u001b[0m\u001b[1;33m\u001b[0m\u001b[0m\n\u001b[1;32m--> 109\u001b[1;33m                     \u001b[0mmodel\u001b[0m \u001b[1;33m=\u001b[0m \u001b[0mstage\u001b[0m\u001b[1;33m.\u001b[0m\u001b[0mfit\u001b[0m\u001b[1;33m(\u001b[0m\u001b[0mdataset\u001b[0m\u001b[1;33m)\u001b[0m\u001b[1;33m\u001b[0m\u001b[1;33m\u001b[0m\u001b[0m\n\u001b[0m\u001b[0;32m    110\u001b[0m                     \u001b[0mtransformers\u001b[0m\u001b[1;33m.\u001b[0m\u001b[0mappend\u001b[0m\u001b[1;33m(\u001b[0m\u001b[0mmodel\u001b[0m\u001b[1;33m)\u001b[0m\u001b[1;33m\u001b[0m\u001b[1;33m\u001b[0m\u001b[0m\n\u001b[0;32m    111\u001b[0m                     \u001b[1;32mif\u001b[0m \u001b[0mi\u001b[0m \u001b[1;33m<\u001b[0m \u001b[0mindexOfLastEstimator\u001b[0m\u001b[1;33m:\u001b[0m\u001b[1;33m\u001b[0m\u001b[1;33m\u001b[0m\u001b[0m\n",
      "\u001b[1;32m~\\Anaconda\\lib\\site-packages\\pyspark\\ml\\base.py\u001b[0m in \u001b[0;36mfit\u001b[1;34m(self, dataset, params)\u001b[0m\n\u001b[0;32m    130\u001b[0m                 \u001b[1;32mreturn\u001b[0m \u001b[0mself\u001b[0m\u001b[1;33m.\u001b[0m\u001b[0mcopy\u001b[0m\u001b[1;33m(\u001b[0m\u001b[0mparams\u001b[0m\u001b[1;33m)\u001b[0m\u001b[1;33m.\u001b[0m\u001b[0m_fit\u001b[0m\u001b[1;33m(\u001b[0m\u001b[0mdataset\u001b[0m\u001b[1;33m)\u001b[0m\u001b[1;33m\u001b[0m\u001b[1;33m\u001b[0m\u001b[0m\n\u001b[0;32m    131\u001b[0m             \u001b[1;32melse\u001b[0m\u001b[1;33m:\u001b[0m\u001b[1;33m\u001b[0m\u001b[1;33m\u001b[0m\u001b[0m\n\u001b[1;32m--> 132\u001b[1;33m                 \u001b[1;32mreturn\u001b[0m \u001b[0mself\u001b[0m\u001b[1;33m.\u001b[0m\u001b[0m_fit\u001b[0m\u001b[1;33m(\u001b[0m\u001b[0mdataset\u001b[0m\u001b[1;33m)\u001b[0m\u001b[1;33m\u001b[0m\u001b[1;33m\u001b[0m\u001b[0m\n\u001b[0m\u001b[0;32m    133\u001b[0m         \u001b[1;32melse\u001b[0m\u001b[1;33m:\u001b[0m\u001b[1;33m\u001b[0m\u001b[1;33m\u001b[0m\u001b[0m\n\u001b[0;32m    134\u001b[0m             raise ValueError(\"Params must be either a param map or a list/tuple of param maps, \"\n",
      "\u001b[1;32m~\\Anaconda\\lib\\site-packages\\pyspark\\ml\\wrapper.py\u001b[0m in \u001b[0;36m_fit\u001b[1;34m(self, dataset)\u001b[0m\n\u001b[0;32m    293\u001b[0m \u001b[1;33m\u001b[0m\u001b[0m\n\u001b[0;32m    294\u001b[0m     \u001b[1;32mdef\u001b[0m \u001b[0m_fit\u001b[0m\u001b[1;33m(\u001b[0m\u001b[0mself\u001b[0m\u001b[1;33m,\u001b[0m \u001b[0mdataset\u001b[0m\u001b[1;33m)\u001b[0m\u001b[1;33m:\u001b[0m\u001b[1;33m\u001b[0m\u001b[1;33m\u001b[0m\u001b[0m\n\u001b[1;32m--> 295\u001b[1;33m         \u001b[0mjava_model\u001b[0m \u001b[1;33m=\u001b[0m \u001b[0mself\u001b[0m\u001b[1;33m.\u001b[0m\u001b[0m_fit_java\u001b[0m\u001b[1;33m(\u001b[0m\u001b[0mdataset\u001b[0m\u001b[1;33m)\u001b[0m\u001b[1;33m\u001b[0m\u001b[1;33m\u001b[0m\u001b[0m\n\u001b[0m\u001b[0;32m    296\u001b[0m         \u001b[0mmodel\u001b[0m \u001b[1;33m=\u001b[0m \u001b[0mself\u001b[0m\u001b[1;33m.\u001b[0m\u001b[0m_create_model\u001b[0m\u001b[1;33m(\u001b[0m\u001b[0mjava_model\u001b[0m\u001b[1;33m)\u001b[0m\u001b[1;33m\u001b[0m\u001b[1;33m\u001b[0m\u001b[0m\n\u001b[0;32m    297\u001b[0m         \u001b[1;32mreturn\u001b[0m \u001b[0mself\u001b[0m\u001b[1;33m.\u001b[0m\u001b[0m_copyValues\u001b[0m\u001b[1;33m(\u001b[0m\u001b[0mmodel\u001b[0m\u001b[1;33m)\u001b[0m\u001b[1;33m\u001b[0m\u001b[1;33m\u001b[0m\u001b[0m\n",
      "\u001b[1;32m~\\Anaconda\\lib\\site-packages\\pyspark\\ml\\wrapper.py\u001b[0m in \u001b[0;36m_fit_java\u001b[1;34m(self, dataset)\u001b[0m\n\u001b[0;32m    290\u001b[0m         \"\"\"\n\u001b[0;32m    291\u001b[0m         \u001b[0mself\u001b[0m\u001b[1;33m.\u001b[0m\u001b[0m_transfer_params_to_java\u001b[0m\u001b[1;33m(\u001b[0m\u001b[1;33m)\u001b[0m\u001b[1;33m\u001b[0m\u001b[1;33m\u001b[0m\u001b[0m\n\u001b[1;32m--> 292\u001b[1;33m         \u001b[1;32mreturn\u001b[0m \u001b[0mself\u001b[0m\u001b[1;33m.\u001b[0m\u001b[0m_java_obj\u001b[0m\u001b[1;33m.\u001b[0m\u001b[0mfit\u001b[0m\u001b[1;33m(\u001b[0m\u001b[0mdataset\u001b[0m\u001b[1;33m.\u001b[0m\u001b[0m_jdf\u001b[0m\u001b[1;33m)\u001b[0m\u001b[1;33m\u001b[0m\u001b[1;33m\u001b[0m\u001b[0m\n\u001b[0m\u001b[0;32m    293\u001b[0m \u001b[1;33m\u001b[0m\u001b[0m\n\u001b[0;32m    294\u001b[0m     \u001b[1;32mdef\u001b[0m \u001b[0m_fit\u001b[0m\u001b[1;33m(\u001b[0m\u001b[0mself\u001b[0m\u001b[1;33m,\u001b[0m \u001b[0mdataset\u001b[0m\u001b[1;33m)\u001b[0m\u001b[1;33m:\u001b[0m\u001b[1;33m\u001b[0m\u001b[1;33m\u001b[0m\u001b[0m\n",
      "\u001b[1;32m~\\Anaconda\\lib\\site-packages\\py4j\\java_gateway.py\u001b[0m in \u001b[0;36m__call__\u001b[1;34m(self, *args)\u001b[0m\n\u001b[0;32m   1255\u001b[0m         \u001b[0manswer\u001b[0m \u001b[1;33m=\u001b[0m \u001b[0mself\u001b[0m\u001b[1;33m.\u001b[0m\u001b[0mgateway_client\u001b[0m\u001b[1;33m.\u001b[0m\u001b[0msend_command\u001b[0m\u001b[1;33m(\u001b[0m\u001b[0mcommand\u001b[0m\u001b[1;33m)\u001b[0m\u001b[1;33m\u001b[0m\u001b[1;33m\u001b[0m\u001b[0m\n\u001b[0;32m   1256\u001b[0m         return_value = get_return_value(\n\u001b[1;32m-> 1257\u001b[1;33m             answer, self.gateway_client, self.target_id, self.name)\n\u001b[0m\u001b[0;32m   1258\u001b[0m \u001b[1;33m\u001b[0m\u001b[0m\n\u001b[0;32m   1259\u001b[0m         \u001b[1;32mfor\u001b[0m \u001b[0mtemp_arg\u001b[0m \u001b[1;32min\u001b[0m \u001b[0mtemp_args\u001b[0m\u001b[1;33m:\u001b[0m\u001b[1;33m\u001b[0m\u001b[1;33m\u001b[0m\u001b[0m\n",
      "\u001b[1;32m~\\Anaconda\\lib\\site-packages\\pyspark\\sql\\utils.py\u001b[0m in \u001b[0;36mdeco\u001b[1;34m(*a, **kw)\u001b[0m\n\u001b[0;32m     77\u001b[0m                 \u001b[1;32mraise\u001b[0m \u001b[0mQueryExecutionException\u001b[0m\u001b[1;33m(\u001b[0m\u001b[0ms\u001b[0m\u001b[1;33m.\u001b[0m\u001b[0msplit\u001b[0m\u001b[1;33m(\u001b[0m\u001b[1;34m': '\u001b[0m\u001b[1;33m,\u001b[0m \u001b[1;36m1\u001b[0m\u001b[1;33m)\u001b[0m\u001b[1;33m[\u001b[0m\u001b[1;36m1\u001b[0m\u001b[1;33m]\u001b[0m\u001b[1;33m,\u001b[0m \u001b[0mstackTrace\u001b[0m\u001b[1;33m)\u001b[0m\u001b[1;33m\u001b[0m\u001b[1;33m\u001b[0m\u001b[0m\n\u001b[0;32m     78\u001b[0m             \u001b[1;32mif\u001b[0m \u001b[0ms\u001b[0m\u001b[1;33m.\u001b[0m\u001b[0mstartswith\u001b[0m\u001b[1;33m(\u001b[0m\u001b[1;34m'java.lang.IllegalArgumentException: '\u001b[0m\u001b[1;33m)\u001b[0m\u001b[1;33m:\u001b[0m\u001b[1;33m\u001b[0m\u001b[1;33m\u001b[0m\u001b[0m\n\u001b[1;32m---> 79\u001b[1;33m                 \u001b[1;32mraise\u001b[0m \u001b[0mIllegalArgumentException\u001b[0m\u001b[1;33m(\u001b[0m\u001b[0ms\u001b[0m\u001b[1;33m.\u001b[0m\u001b[0msplit\u001b[0m\u001b[1;33m(\u001b[0m\u001b[1;34m': '\u001b[0m\u001b[1;33m,\u001b[0m \u001b[1;36m1\u001b[0m\u001b[1;33m)\u001b[0m\u001b[1;33m[\u001b[0m\u001b[1;36m1\u001b[0m\u001b[1;33m]\u001b[0m\u001b[1;33m,\u001b[0m \u001b[0mstackTrace\u001b[0m\u001b[1;33m)\u001b[0m\u001b[1;33m\u001b[0m\u001b[1;33m\u001b[0m\u001b[0m\n\u001b[0m\u001b[0;32m     80\u001b[0m             \u001b[1;32mraise\u001b[0m\u001b[1;33m\u001b[0m\u001b[1;33m\u001b[0m\u001b[0m\n\u001b[0;32m     81\u001b[0m     \u001b[1;32mreturn\u001b[0m \u001b[0mdeco\u001b[0m\u001b[1;33m\u001b[0m\u001b[1;33m\u001b[0m\u001b[0m\n",
      "\u001b[1;31mIllegalArgumentException\u001b[0m: 'Field \"class\" does not exist.\\nAvailable fields: Unnamed: 0, Beer Names, Rating, Locations, Reviews, Users'"
     ]
    }
   ],
   "source": [
    "# Fit and transform the pipeline\n",
    "cleaner = data_prep_pipeline.fit(sparkbeer)\n",
    "cleaned = cleaner.transform(sparkbeer)"
   ]
  },
  {
   "cell_type": "code",
   "execution_count": 17,
   "metadata": {},
   "outputs": [
    {
     "data": {
      "text/plain": [
       "pandas.core.frame.DataFrame"
      ]
     },
     "execution_count": 17,
     "metadata": {},
     "output_type": "execute_result"
    }
   ],
   "source": [
    "type(beer)"
   ]
  },
  {
   "cell_type": "code",
   "execution_count": 18,
   "metadata": {},
   "outputs": [],
   "source": [
    "sparkbeer=spark.createDataFrame(beer.astype(str))"
   ]
  },
  {
   "cell_type": "code",
   "execution_count": 19,
   "metadata": {},
   "outputs": [
    {
     "data": {
      "text/plain": [
       "pyspark.sql.dataframe.DataFrame"
      ]
     },
     "execution_count": 19,
     "metadata": {},
     "output_type": "execute_result"
    }
   ],
   "source": [
    "type(sparkbeer)"
   ]
  },
  {
   "cell_type": "code",
   "execution_count": 20,
   "metadata": {},
   "outputs": [
    {
     "name": "stdout",
     "output_type": "stream",
     "text": [
      "+----------+--------------------+------+--------------------+--------------------+--------------------+\n",
      "|Unnamed: 0|          Beer Names|Rating|           Locations|             Reviews|               Users|\n",
      "+----------+--------------------+------+--------------------+--------------------+--------------------+\n",
      "|         1| Beamish Irish Stout|   5.0|       Cork, Ireland|\"il solito\" al pu...|            flogisto|\n",
      "|         2|Simpler Times Pil...|   0.6|Monrovia, California|Jesus this is bad...|      PhillyBeer2112|\n",
      "|         3|Revolution Fistma...|   1.9|   Chicago, Illinois|HAHA, funny name ...|               cheap|\n",
      "|         4|Samuel Adams Utopias|   2.0|Boston, Massachus...|Mildly syrupy, bu...|       tryeverything|\n",
      "|         5|  Ora Limoncello IPA|   1.4|Tottenham, Greate...|På GBBF Winter 20...|                Finn|\n",
      "|         6|            ABK Hell|   1.5| Kaufbeuren, Bavaria|Light caramel & c...|         FACambridge|\n",
      "|         7|            ABK Fels|   1.1| Kaufbeuren, Bavaria|Aroma : Lightly t...|         FACambridge|\n",
      "|         8|Shock Top Belgian...|   5.0| St. Louis, Missouri|It's good. No unw...|             murphmn|\n",
      "|         9|Lost Abbey Red Po...|   2.3|San Marcos, Calif...|Cocoa-colored wit...|      frozencemetery|\n",
      "|        10|Milwaukee's Best ...|   5.0|Milwaukee        ...|It's cheap ass he...|              torres|\n",
      "|        11|     Hubertus Märzen|   4.4|Laa an der Thaya,...|very clear, light...|      guinnessdaniel|\n",
      "|        12|Paulaner Weissbie...|   3.1|     Munich, Bavaria|Pours hazy amber ...|             pdog555|\n",
      "|        13|Anchor California...|   4.7|San Francisco, Ca...|Cerveza de color ...|alfonsochinchilla...|\n",
      "|        14|Vox Populi Kettle...|   0.7|    Montréal, Quebec|Colo amarillo pál...|                Suco|\n",
      "|        15|Brass Castle Very...|   1.8|Malton, North Yor...|Can: Gushed as so...|                SHIG|\n",
      "|        16|Oud Beersel Schaa...|   2.3|    Beersel, Belgium|500ml bottle (Ove...|             FatPhil|\n",
      "|        17|BFM Abbaye de Sai...|   2.2|Saignelégier, Swi...|750ml bottle (Ove...|             FatPhil|\n",
      "|        18|Summer Wine Saber...|   1.7|Holmfirth, West Y...|0,3 litre Bottle ...|         ChrisOfstad|\n",
      "|        19|Victory Cloud Wal...|   1.1|Downingtown, Penn...|Can from JRs. Pou...|               cheap|\n",
      "|        20|Brooklyn Special ...|   1.2|  Brooklyn, New York|Feb 2020. Bottle ...|            SilkTork|\n",
      "+----------+--------------------+------+--------------------+--------------------+--------------------+\n",
      "only showing top 20 rows\n",
      "\n"
     ]
    }
   ],
   "source": [
    "sparkbeer.show()"
   ]
  },
  {
   "cell_type": "code",
   "execution_count": 5,
   "metadata": {},
   "outputs": [
    {
     "ename": "NameError",
     "evalue": "name 'beer' is not defined",
     "output_type": "error",
     "traceback": [
      "\u001b[1;31m---------------------------------------------------------------------------\u001b[0m",
      "\u001b[1;31mNameError\u001b[0m                                 Traceback (most recent call last)",
      "\u001b[1;32m<ipython-input-5-95a04ceeda82>\u001b[0m in \u001b[0;36m<module>\u001b[1;34m\u001b[0m\n\u001b[0;32m      1\u001b[0m \u001b[1;31m# Assign the data to X and y\u001b[0m\u001b[1;33m\u001b[0m\u001b[1;33m\u001b[0m\u001b[1;33m\u001b[0m\u001b[0m\n\u001b[0;32m      2\u001b[0m \u001b[1;33m\u001b[0m\u001b[0m\n\u001b[1;32m----> 3\u001b[1;33m \u001b[0mX\u001b[0m \u001b[1;33m=\u001b[0m \u001b[0mbeer\u001b[0m\u001b[1;33m[\u001b[0m\u001b[1;33m[\u001b[0m\u001b[1;34m\"Beer Names\"\u001b[0m\u001b[1;33m]\u001b[0m\u001b[1;33m]\u001b[0m\u001b[1;33m\u001b[0m\u001b[1;33m\u001b[0m\u001b[0m\n\u001b[0m\u001b[0;32m      4\u001b[0m \u001b[0my\u001b[0m \u001b[1;33m=\u001b[0m \u001b[0mbeer\u001b[0m\u001b[1;33m[\u001b[0m\u001b[1;34m\"Rating\"\u001b[0m\u001b[1;33m]\u001b[0m\u001b[1;33m.\u001b[0m\u001b[0mvalues\u001b[0m\u001b[1;33m.\u001b[0m\u001b[0mreshape\u001b[0m\u001b[1;33m(\u001b[0m\u001b[1;33m-\u001b[0m\u001b[1;36m1\u001b[0m\u001b[1;33m,\u001b[0m \u001b[1;36m1\u001b[0m\u001b[1;33m)\u001b[0m\u001b[1;33m\u001b[0m\u001b[1;33m\u001b[0m\u001b[0m\n\u001b[0;32m      5\u001b[0m \u001b[0mprint\u001b[0m\u001b[1;33m(\u001b[0m\u001b[0mX\u001b[0m\u001b[1;33m.\u001b[0m\u001b[0mshape\u001b[0m\u001b[1;33m,\u001b[0m \u001b[0my\u001b[0m\u001b[1;33m.\u001b[0m\u001b[0mshape\u001b[0m\u001b[1;33m)\u001b[0m\u001b[1;33m\u001b[0m\u001b[1;33m\u001b[0m\u001b[0m\n",
      "\u001b[1;31mNameError\u001b[0m: name 'beer' is not defined"
     ]
    }
   ],
   "source": [
    "# Assign the data to X and y\n",
    "\n",
    "X = beer[[\"Beer Names\"]]\n",
    "y = beer[\"Rating\"].values.reshape(-1, 1)\n",
    "print(X.shape, y.shape)"
   ]
  },
  {
   "cell_type": "code",
   "execution_count": 21,
   "metadata": {},
   "outputs": [
    {
     "data": {
      "text/plain": [
       "Tokenizer_f808b4537894"
      ]
     },
     "execution_count": 21,
     "metadata": {},
     "output_type": "execute_result"
    }
   ],
   "source": [
    "review_data = Tokenizer(inputCol=\"Reviews\", outputCol=\"words\")\n",
    "review_data"
   ]
  },
  {
   "cell_type": "code",
   "execution_count": 22,
   "metadata": {},
   "outputs": [
    {
     "name": "stdout",
     "output_type": "stream",
     "text": [
      "+----------+--------------------+------+--------------------+--------------------+--------------------+--------------------+\n",
      "|Unnamed: 0|          Beer Names|Rating|           Locations|             Reviews|               Users|               words|\n",
      "+----------+--------------------+------+--------------------+--------------------+--------------------+--------------------+\n",
      "|         1| Beamish Irish Stout|   5.0|       Cork, Ireland|\"il solito\" al pu...|            flogisto|[\"il, solito\", al...|\n",
      "|         2|Simpler Times Pil...|   0.6|Monrovia, California|Jesus this is bad...|      PhillyBeer2112|[jesus, this, is,...|\n",
      "|         3|Revolution Fistma...|   1.9|   Chicago, Illinois|HAHA, funny name ...|               cheap|[haha,, funny, na...|\n",
      "|         4|Samuel Adams Utopias|   2.0|Boston, Massachus...|Mildly syrupy, bu...|       tryeverything|[mildly, syrupy,,...|\n",
      "|         5|  Ora Limoncello IPA|   1.4|Tottenham, Greate...|På GBBF Winter 20...|                Finn|[på, gbbf, winter...|\n",
      "|         6|            ABK Hell|   1.5| Kaufbeuren, Bavaria|Light caramel & c...|         FACambridge|[light, caramel, ...|\n",
      "|         7|            ABK Fels|   1.1| Kaufbeuren, Bavaria|Aroma : Lightly t...|         FACambridge|[aroma, :, lightl...|\n",
      "|         8|Shock Top Belgian...|   5.0| St. Louis, Missouri|It's good. No unw...|             murphmn|[it's, good., no,...|\n",
      "|         9|Lost Abbey Red Po...|   2.3|San Marcos, Calif...|Cocoa-colored wit...|      frozencemetery|[cocoa-colored, w...|\n",
      "|        10|Milwaukee's Best ...|   5.0|Milwaukee        ...|It's cheap ass he...|              torres|[it's, cheap, ass...|\n",
      "|        11|     Hubertus Märzen|   4.4|Laa an der Thaya,...|very clear, light...|      guinnessdaniel|[very, clear,, li...|\n",
      "|        12|Paulaner Weissbie...|   3.1|     Munich, Bavaria|Pours hazy amber ...|             pdog555|[pours, hazy, amb...|\n",
      "|        13|Anchor California...|   4.7|San Francisco, Ca...|Cerveza de color ...|alfonsochinchilla...|[cerveza, de, col...|\n",
      "|        14|Vox Populi Kettle...|   0.7|    Montréal, Quebec|Colo amarillo pál...|                Suco|[colo, amarillo, ...|\n",
      "|        15|Brass Castle Very...|   1.8|Malton, North Yor...|Can: Gushed as so...|                SHIG|[can:, gushed, as...|\n",
      "|        16|Oud Beersel Schaa...|   2.3|    Beersel, Belgium|500ml bottle (Ove...|             FatPhil|[500ml, bottle, (...|\n",
      "|        17|BFM Abbaye de Sai...|   2.2|Saignelégier, Swi...|750ml bottle (Ove...|             FatPhil|[750ml, bottle, (...|\n",
      "|        18|Summer Wine Saber...|   1.7|Holmfirth, West Y...|0,3 litre Bottle ...|         ChrisOfstad|[0,3, litre, bott...|\n",
      "|        19|Victory Cloud Wal...|   1.1|Downingtown, Penn...|Can from JRs. Pou...|               cheap|[can, from, jrs.,...|\n",
      "|        20|Brooklyn Special ...|   1.2|  Brooklyn, New York|Feb 2020. Bottle ...|            SilkTork|[feb, 2020., bott...|\n",
      "+----------+--------------------+------+--------------------+--------------------+--------------------+--------------------+\n",
      "only showing top 20 rows\n",
      "\n"
     ]
    }
   ],
   "source": [
    "reviewed = review_data.transform(sparkbeer)\n",
    "reviewed.show()"
   ]
  },
  {
   "cell_type": "code",
   "execution_count": 10,
   "metadata": {},
   "outputs": [],
   "source": [
    "def word_list_length(word_list):\n",
    "    return len(word_list)"
   ]
  },
  {
   "cell_type": "code",
   "execution_count": 11,
   "metadata": {},
   "outputs": [
    {
     "data": {
      "text/plain": [
       "<function __main__.word_list_length(word_list)>"
      ]
     },
     "execution_count": 11,
     "metadata": {},
     "output_type": "execute_result"
    }
   ],
   "source": [
    "count_tokens = udf(word_list_length, IntegerType())\n",
    "count_tokens"
   ]
  },
  {
   "cell_type": "code",
   "execution_count": 23,
   "metadata": {},
   "outputs": [
    {
     "ename": "IllegalArgumentException",
     "evalue": "'Field \"text\" does not exist.\\nAvailable fields: Unnamed: 0, Beer Names, Rating, Locations, Reviews, Users'",
     "output_type": "error",
     "traceback": [
      "\u001b[1;31m---------------------------------------------------------------------------\u001b[0m",
      "\u001b[1;31mPy4JJavaError\u001b[0m                             Traceback (most recent call last)",
      "\u001b[1;32m~\\Anaconda\\lib\\site-packages\\pyspark\\sql\\utils.py\u001b[0m in \u001b[0;36mdeco\u001b[1;34m(*a, **kw)\u001b[0m\n\u001b[0;32m     62\u001b[0m         \u001b[1;32mtry\u001b[0m\u001b[1;33m:\u001b[0m\u001b[1;33m\u001b[0m\u001b[1;33m\u001b[0m\u001b[0m\n\u001b[1;32m---> 63\u001b[1;33m             \u001b[1;32mreturn\u001b[0m \u001b[0mf\u001b[0m\u001b[1;33m(\u001b[0m\u001b[1;33m*\u001b[0m\u001b[0ma\u001b[0m\u001b[1;33m,\u001b[0m \u001b[1;33m**\u001b[0m\u001b[0mkw\u001b[0m\u001b[1;33m)\u001b[0m\u001b[1;33m\u001b[0m\u001b[1;33m\u001b[0m\u001b[0m\n\u001b[0m\u001b[0;32m     64\u001b[0m         \u001b[1;32mexcept\u001b[0m \u001b[0mpy4j\u001b[0m\u001b[1;33m.\u001b[0m\u001b[0mprotocol\u001b[0m\u001b[1;33m.\u001b[0m\u001b[0mPy4JJavaError\u001b[0m \u001b[1;32mas\u001b[0m \u001b[0me\u001b[0m\u001b[1;33m:\u001b[0m\u001b[1;33m\u001b[0m\u001b[1;33m\u001b[0m\u001b[0m\n",
      "\u001b[1;32m~\\Anaconda\\lib\\site-packages\\py4j\\protocol.py\u001b[0m in \u001b[0;36mget_return_value\u001b[1;34m(answer, gateway_client, target_id, name)\u001b[0m\n\u001b[0;32m    327\u001b[0m                     \u001b[1;34m\"An error occurred while calling {0}{1}{2}.\\n\"\u001b[0m\u001b[1;33m.\u001b[0m\u001b[1;33m\u001b[0m\u001b[1;33m\u001b[0m\u001b[0m\n\u001b[1;32m--> 328\u001b[1;33m                     format(target_id, \".\", name), value)\n\u001b[0m\u001b[0;32m    329\u001b[0m             \u001b[1;32melse\u001b[0m\u001b[1;33m:\u001b[0m\u001b[1;33m\u001b[0m\u001b[1;33m\u001b[0m\u001b[0m\n",
      "\u001b[1;31mPy4JJavaError\u001b[0m: An error occurred while calling o25.transform.\n: java.lang.IllegalArgumentException: Field \"text\" does not exist.\nAvailable fields: Unnamed: 0, Beer Names, Rating, Locations, Reviews, Users\r\n\tat org.apache.spark.sql.types.StructType$$anonfun$apply$1.apply(StructType.scala:274)\r\n\tat org.apache.spark.sql.types.StructType$$anonfun$apply$1.apply(StructType.scala:274)\r\n\tat scala.collection.MapLike$class.getOrElse(MapLike.scala:128)\r\n\tat scala.collection.AbstractMap.getOrElse(Map.scala:59)\r\n\tat org.apache.spark.sql.types.StructType.apply(StructType.scala:273)\r\n\tat org.apache.spark.ml.UnaryTransformer.transformSchema(Transformer.scala:109)\r\n\tat org.apache.spark.ml.PipelineStage.transformSchema(Pipeline.scala:74)\r\n\tat org.apache.spark.ml.UnaryTransformer.transform(Transformer.scala:120)\r\n\tat sun.reflect.NativeMethodAccessorImpl.invoke0(Native Method)\r\n\tat sun.reflect.NativeMethodAccessorImpl.invoke(Unknown Source)\r\n\tat sun.reflect.DelegatingMethodAccessorImpl.invoke(Unknown Source)\r\n\tat java.lang.reflect.Method.invoke(Unknown Source)\r\n\tat py4j.reflection.MethodInvoker.invoke(MethodInvoker.java:244)\r\n\tat py4j.reflection.ReflectionEngine.invoke(ReflectionEngine.java:357)\r\n\tat py4j.Gateway.invoke(Gateway.java:282)\r\n\tat py4j.commands.AbstractCommand.invokeMethod(AbstractCommand.java:132)\r\n\tat py4j.commands.CallCommand.execute(CallCommand.java:79)\r\n\tat py4j.GatewayConnection.run(GatewayConnection.java:238)\r\n\tat java.lang.Thread.run(Unknown Source)\r\n",
      "\nDuring handling of the above exception, another exception occurred:\n",
      "\u001b[1;31mIllegalArgumentException\u001b[0m                  Traceback (most recent call last)",
      "\u001b[1;32m<ipython-input-23-5c19cd7a74bb>\u001b[0m in \u001b[0;36m<module>\u001b[1;34m\u001b[0m\n\u001b[1;32m----> 1\u001b[1;33m \u001b[0mtokenized\u001b[0m \u001b[1;33m=\u001b[0m \u001b[0mtokenizer\u001b[0m\u001b[1;33m.\u001b[0m\u001b[0mtransform\u001b[0m\u001b[1;33m(\u001b[0m\u001b[0msparkbeer\u001b[0m\u001b[1;33m)\u001b[0m\u001b[1;33m\u001b[0m\u001b[1;33m\u001b[0m\u001b[0m\n\u001b[0m",
      "\u001b[1;32m~\\Anaconda\\lib\\site-packages\\pyspark\\ml\\base.py\u001b[0m in \u001b[0;36mtransform\u001b[1;34m(self, dataset, params)\u001b[0m\n\u001b[0;32m    171\u001b[0m                 \u001b[1;32mreturn\u001b[0m \u001b[0mself\u001b[0m\u001b[1;33m.\u001b[0m\u001b[0mcopy\u001b[0m\u001b[1;33m(\u001b[0m\u001b[0mparams\u001b[0m\u001b[1;33m)\u001b[0m\u001b[1;33m.\u001b[0m\u001b[0m_transform\u001b[0m\u001b[1;33m(\u001b[0m\u001b[0mdataset\u001b[0m\u001b[1;33m)\u001b[0m\u001b[1;33m\u001b[0m\u001b[1;33m\u001b[0m\u001b[0m\n\u001b[0;32m    172\u001b[0m             \u001b[1;32melse\u001b[0m\u001b[1;33m:\u001b[0m\u001b[1;33m\u001b[0m\u001b[1;33m\u001b[0m\u001b[0m\n\u001b[1;32m--> 173\u001b[1;33m                 \u001b[1;32mreturn\u001b[0m \u001b[0mself\u001b[0m\u001b[1;33m.\u001b[0m\u001b[0m_transform\u001b[0m\u001b[1;33m(\u001b[0m\u001b[0mdataset\u001b[0m\u001b[1;33m)\u001b[0m\u001b[1;33m\u001b[0m\u001b[1;33m\u001b[0m\u001b[0m\n\u001b[0m\u001b[0;32m    174\u001b[0m         \u001b[1;32melse\u001b[0m\u001b[1;33m:\u001b[0m\u001b[1;33m\u001b[0m\u001b[1;33m\u001b[0m\u001b[0m\n\u001b[0;32m    175\u001b[0m             \u001b[1;32mraise\u001b[0m \u001b[0mValueError\u001b[0m\u001b[1;33m(\u001b[0m\u001b[1;34m\"Params must be a param map but got %s.\"\u001b[0m \u001b[1;33m%\u001b[0m \u001b[0mtype\u001b[0m\u001b[1;33m(\u001b[0m\u001b[0mparams\u001b[0m\u001b[1;33m)\u001b[0m\u001b[1;33m)\u001b[0m\u001b[1;33m\u001b[0m\u001b[1;33m\u001b[0m\u001b[0m\n",
      "\u001b[1;32m~\\Anaconda\\lib\\site-packages\\pyspark\\ml\\wrapper.py\u001b[0m in \u001b[0;36m_transform\u001b[1;34m(self, dataset)\u001b[0m\n\u001b[0;32m    310\u001b[0m     \u001b[1;32mdef\u001b[0m \u001b[0m_transform\u001b[0m\u001b[1;33m(\u001b[0m\u001b[0mself\u001b[0m\u001b[1;33m,\u001b[0m \u001b[0mdataset\u001b[0m\u001b[1;33m)\u001b[0m\u001b[1;33m:\u001b[0m\u001b[1;33m\u001b[0m\u001b[1;33m\u001b[0m\u001b[0m\n\u001b[0;32m    311\u001b[0m         \u001b[0mself\u001b[0m\u001b[1;33m.\u001b[0m\u001b[0m_transfer_params_to_java\u001b[0m\u001b[1;33m(\u001b[0m\u001b[1;33m)\u001b[0m\u001b[1;33m\u001b[0m\u001b[1;33m\u001b[0m\u001b[0m\n\u001b[1;32m--> 312\u001b[1;33m         \u001b[1;32mreturn\u001b[0m \u001b[0mDataFrame\u001b[0m\u001b[1;33m(\u001b[0m\u001b[0mself\u001b[0m\u001b[1;33m.\u001b[0m\u001b[0m_java_obj\u001b[0m\u001b[1;33m.\u001b[0m\u001b[0mtransform\u001b[0m\u001b[1;33m(\u001b[0m\u001b[0mdataset\u001b[0m\u001b[1;33m.\u001b[0m\u001b[0m_jdf\u001b[0m\u001b[1;33m)\u001b[0m\u001b[1;33m,\u001b[0m \u001b[0mdataset\u001b[0m\u001b[1;33m.\u001b[0m\u001b[0msql_ctx\u001b[0m\u001b[1;33m)\u001b[0m\u001b[1;33m\u001b[0m\u001b[1;33m\u001b[0m\u001b[0m\n\u001b[0m\u001b[0;32m    313\u001b[0m \u001b[1;33m\u001b[0m\u001b[0m\n\u001b[0;32m    314\u001b[0m \u001b[1;33m\u001b[0m\u001b[0m\n",
      "\u001b[1;32m~\\Anaconda\\lib\\site-packages\\py4j\\java_gateway.py\u001b[0m in \u001b[0;36m__call__\u001b[1;34m(self, *args)\u001b[0m\n\u001b[0;32m   1255\u001b[0m         \u001b[0manswer\u001b[0m \u001b[1;33m=\u001b[0m \u001b[0mself\u001b[0m\u001b[1;33m.\u001b[0m\u001b[0mgateway_client\u001b[0m\u001b[1;33m.\u001b[0m\u001b[0msend_command\u001b[0m\u001b[1;33m(\u001b[0m\u001b[0mcommand\u001b[0m\u001b[1;33m)\u001b[0m\u001b[1;33m\u001b[0m\u001b[1;33m\u001b[0m\u001b[0m\n\u001b[0;32m   1256\u001b[0m         return_value = get_return_value(\n\u001b[1;32m-> 1257\u001b[1;33m             answer, self.gateway_client, self.target_id, self.name)\n\u001b[0m\u001b[0;32m   1258\u001b[0m \u001b[1;33m\u001b[0m\u001b[0m\n\u001b[0;32m   1259\u001b[0m         \u001b[1;32mfor\u001b[0m \u001b[0mtemp_arg\u001b[0m \u001b[1;32min\u001b[0m \u001b[0mtemp_args\u001b[0m\u001b[1;33m:\u001b[0m\u001b[1;33m\u001b[0m\u001b[1;33m\u001b[0m\u001b[0m\n",
      "\u001b[1;32m~\\Anaconda\\lib\\site-packages\\pyspark\\sql\\utils.py\u001b[0m in \u001b[0;36mdeco\u001b[1;34m(*a, **kw)\u001b[0m\n\u001b[0;32m     77\u001b[0m                 \u001b[1;32mraise\u001b[0m \u001b[0mQueryExecutionException\u001b[0m\u001b[1;33m(\u001b[0m\u001b[0ms\u001b[0m\u001b[1;33m.\u001b[0m\u001b[0msplit\u001b[0m\u001b[1;33m(\u001b[0m\u001b[1;34m': '\u001b[0m\u001b[1;33m,\u001b[0m \u001b[1;36m1\u001b[0m\u001b[1;33m)\u001b[0m\u001b[1;33m[\u001b[0m\u001b[1;36m1\u001b[0m\u001b[1;33m]\u001b[0m\u001b[1;33m,\u001b[0m \u001b[0mstackTrace\u001b[0m\u001b[1;33m)\u001b[0m\u001b[1;33m\u001b[0m\u001b[1;33m\u001b[0m\u001b[0m\n\u001b[0;32m     78\u001b[0m             \u001b[1;32mif\u001b[0m \u001b[0ms\u001b[0m\u001b[1;33m.\u001b[0m\u001b[0mstartswith\u001b[0m\u001b[1;33m(\u001b[0m\u001b[1;34m'java.lang.IllegalArgumentException: '\u001b[0m\u001b[1;33m)\u001b[0m\u001b[1;33m:\u001b[0m\u001b[1;33m\u001b[0m\u001b[1;33m\u001b[0m\u001b[0m\n\u001b[1;32m---> 79\u001b[1;33m                 \u001b[1;32mraise\u001b[0m \u001b[0mIllegalArgumentException\u001b[0m\u001b[1;33m(\u001b[0m\u001b[0ms\u001b[0m\u001b[1;33m.\u001b[0m\u001b[0msplit\u001b[0m\u001b[1;33m(\u001b[0m\u001b[1;34m': '\u001b[0m\u001b[1;33m,\u001b[0m \u001b[1;36m1\u001b[0m\u001b[1;33m)\u001b[0m\u001b[1;33m[\u001b[0m\u001b[1;36m1\u001b[0m\u001b[1;33m]\u001b[0m\u001b[1;33m,\u001b[0m \u001b[0mstackTrace\u001b[0m\u001b[1;33m)\u001b[0m\u001b[1;33m\u001b[0m\u001b[1;33m\u001b[0m\u001b[0m\n\u001b[0m\u001b[0;32m     80\u001b[0m             \u001b[1;32mraise\u001b[0m\u001b[1;33m\u001b[0m\u001b[1;33m\u001b[0m\u001b[0m\n\u001b[0;32m     81\u001b[0m     \u001b[1;32mreturn\u001b[0m \u001b[0mdeco\u001b[0m\u001b[1;33m\u001b[0m\u001b[1;33m\u001b[0m\u001b[0m\n",
      "\u001b[1;31mIllegalArgumentException\u001b[0m: 'Field \"text\" does not exist.\\nAvailable fields: Unnamed: 0, Beer Names, Rating, Locations, Reviews, Users'"
     ]
    }
   ],
   "source": [
    "tokenized = tokenizer.transform(sparkbeer)"
   ]
  },
  {
   "cell_type": "code",
   "execution_count": 24,
   "metadata": {},
   "outputs": [
    {
     "ename": "NameError",
     "evalue": "name 'tokenized' is not defined",
     "output_type": "error",
     "traceback": [
      "\u001b[1;31m---------------------------------------------------------------------------\u001b[0m",
      "\u001b[1;31mNameError\u001b[0m                                 Traceback (most recent call last)",
      "\u001b[1;32m<ipython-input-24-0fcf84f33859>\u001b[0m in \u001b[0;36m<module>\u001b[1;34m\u001b[0m\n\u001b[1;32m----> 1\u001b[1;33m \u001b[0mtokenized\u001b[0m\u001b[1;33m.\u001b[0m\u001b[0mselect\u001b[0m\u001b[1;33m(\u001b[0m\u001b[1;34m\"Reviews\"\u001b[0m\u001b[1;33m,\u001b[0m \u001b[1;34m\"words\"\u001b[0m\u001b[1;33m)\u001b[0m\u001b[0;31m\\\u001b[0m\u001b[1;33m\u001b[0m\u001b[1;33m\u001b[0m\u001b[0m\n\u001b[0m\u001b[0;32m      2\u001b[0m     \u001b[1;33m.\u001b[0m\u001b[0mwithColumn\u001b[0m\u001b[1;33m(\u001b[0m\u001b[1;34m\"tokens\"\u001b[0m\u001b[1;33m,\u001b[0m \u001b[0mcount_tokens\u001b[0m\u001b[1;33m(\u001b[0m\u001b[0mcol\u001b[0m\u001b[1;33m(\u001b[0m\u001b[1;34m\"words\"\u001b[0m\u001b[1;33m)\u001b[0m\u001b[1;33m)\u001b[0m\u001b[1;33m)\u001b[0m\u001b[1;33m.\u001b[0m\u001b[0mshow\u001b[0m\u001b[1;33m(\u001b[0m\u001b[0mtruncate\u001b[0m\u001b[1;33m=\u001b[0m\u001b[1;32mFalse\u001b[0m\u001b[1;33m)\u001b[0m\u001b[1;33m\u001b[0m\u001b[1;33m\u001b[0m\u001b[0m\n",
      "\u001b[1;31mNameError\u001b[0m: name 'tokenized' is not defined"
     ]
    }
   ],
   "source": [
    "tokenized.select(\"Reviews\", \"words\")\\\n",
    "    .withColumn(\"tokens\", count_tokens(col(\"words\"))).show(truncate=False)"
   ]
  },
  {
   "cell_type": "code",
   "execution_count": 25,
   "metadata": {},
   "outputs": [
    {
     "data": {
      "text/plain": [
       "Column<b'Reviews'>"
      ]
     },
     "execution_count": 25,
     "metadata": {},
     "output_type": "execute_result"
    }
   ],
   "source": [
    "from pyspark.sql import types\n",
    "sparkbeer[\"Reviews\"].cast(types.ArrayType(types.StringType()))"
   ]
  },
  {
   "cell_type": "code",
   "execution_count": 26,
   "metadata": {},
   "outputs": [],
   "source": [
    "remover = StopWordsRemover(inputCol=\"words\", outputCol=\"filteredwords\")"
   ]
  },
  {
   "cell_type": "code",
   "execution_count": 27,
   "metadata": {},
   "outputs": [
    {
     "data": {
      "text/plain": [
       "pyspark.sql.dataframe.DataFrame"
      ]
     },
     "execution_count": 27,
     "metadata": {},
     "output_type": "execute_result"
    }
   ],
   "source": [
    "type(sparkbeer)"
   ]
  },
  {
   "cell_type": "code",
   "execution_count": 28,
   "metadata": {},
   "outputs": [
    {
     "data": {
      "text/plain": [
       "[('Unnamed: 0', 'string'),\n",
       " ('Beer Names', 'string'),\n",
       " ('Rating', 'string'),\n",
       " ('Locations', 'string'),\n",
       " ('Reviews', 'string'),\n",
       " ('Users', 'string')]"
      ]
     },
     "execution_count": 28,
     "metadata": {},
     "output_type": "execute_result"
    }
   ],
   "source": [
    "sparkbeer.dtypes"
   ]
  },
  {
   "cell_type": "code",
   "execution_count": 29,
   "metadata": {},
   "outputs": [
    {
     "name": "stdout",
     "output_type": "stream",
     "text": [
      "+----------+--------------------+------+--------------------+--------------------+--------------------+--------------------+--------------------+\n",
      "|Unnamed: 0|          Beer Names|Rating|           Locations|             Reviews|               Users|               words|       filteredwords|\n",
      "+----------+--------------------+------+--------------------+--------------------+--------------------+--------------------+--------------------+\n",
      "|         1| Beamish Irish Stout|   5.0|       Cork, Ireland|\"il solito\" al pu...|            flogisto|[\"il, solito\", al...|[\"il, solito\", al...|\n",
      "|         2|Simpler Times Pil...|   0.6|Monrovia, California|Jesus this is bad...|      PhillyBeer2112|[jesus, this, is,...|[jesus, bad., sur...|\n",
      "|         3|Revolution Fistma...|   1.9|   Chicago, Illinois|HAHA, funny name ...|               cheap|[haha,, funny, na...|[haha,, funny, na...|\n",
      "|         4|Samuel Adams Utopias|   2.0|Boston, Massachus...|Mildly syrupy, bu...|       tryeverything|[mildly, syrupy,,...|[mildly, syrupy,,...|\n",
      "|         5|  Ora Limoncello IPA|   1.4|Tottenham, Greate...|På GBBF Winter 20...|                Finn|[på, gbbf, winter...|[på, gbbf, winter...|\n",
      "|         6|            ABK Hell|   1.5| Kaufbeuren, Bavaria|Light caramel & c...|         FACambridge|[light, caramel, ...|[light, caramel, ...|\n",
      "|         7|            ABK Fels|   1.1| Kaufbeuren, Bavaria|Aroma : Lightly t...|         FACambridge|[aroma, :, lightl...|[aroma, :, lightl...|\n",
      "|         8|Shock Top Belgian...|   5.0| St. Louis, Missouri|It's good. No unw...|             murphmn|[it's, good., no,...|[good., unwanted,...|\n",
      "|         9|Lost Abbey Red Po...|   2.3|San Marcos, Calif...|Cocoa-colored wit...|      frozencemetery|[cocoa-colored, w...|[cocoa-colored, t...|\n",
      "|        10|Milwaukee's Best ...|   5.0|Milwaukee        ...|It's cheap ass he...|              torres|[it's, cheap, ass...|[cheap, ass, hell...|\n",
      "|        11|     Hubertus Märzen|   4.4|Laa an der Thaya,...|very clear, light...|      guinnessdaniel|[very, clear,, li...|[clear,, light-ye...|\n",
      "|        12|Paulaner Weissbie...|   3.1|     Munich, Bavaria|Pours hazy amber ...|             pdog555|[pours, hazy, amb...|[pours, hazy, amb...|\n",
      "|        13|Anchor California...|   4.7|San Francisco, Ca...|Cerveza de color ...|alfonsochinchilla...|[cerveza, de, col...|[cerveza, de, col...|\n",
      "|        14|Vox Populi Kettle...|   0.7|    Montréal, Quebec|Colo amarillo pál...|                Suco|[colo, amarillo, ...|[colo, amarillo, ...|\n",
      "|        15|Brass Castle Very...|   1.8|Malton, North Yor...|Can: Gushed as so...|                SHIG|[can:, gushed, as...|[can:, gushed, so...|\n",
      "|        16|Oud Beersel Schaa...|   2.3|    Beersel, Belgium|500ml bottle (Ove...|             FatPhil|[500ml, bottle, (...|[500ml, bottle, (...|\n",
      "|        17|BFM Abbaye de Sai...|   2.2|Saignelégier, Swi...|750ml bottle (Ove...|             FatPhil|[750ml, bottle, (...|[750ml, bottle, (...|\n",
      "|        18|Summer Wine Saber...|   1.7|Holmfirth, West Y...|0,3 litre Bottle ...|         ChrisOfstad|[0,3, litre, bott...|[0,3, litre, bott...|\n",
      "|        19|Victory Cloud Wal...|   1.1|Downingtown, Penn...|Can from JRs. Pou...|               cheap|[can, from, jrs.,...|[jrs., pour, hazy...|\n",
      "|        20|Brooklyn Special ...|   1.2|  Brooklyn, New York|Feb 2020. Bottle ...|            SilkTork|[feb, 2020., bott...|[feb, 2020., bott...|\n",
      "+----------+--------------------+------+--------------------+--------------------+--------------------+--------------------+--------------------+\n",
      "only showing top 20 rows\n",
      "\n"
     ]
    }
   ],
   "source": [
    "filteredSparkDF = remover.transform(reviewed)\n",
    "filteredSparkDF.show()"
   ]
  },
  {
   "cell_type": "code",
   "execution_count": 30,
   "metadata": {},
   "outputs": [
    {
     "name": "stdout",
     "output_type": "stream",
     "text": [
      "+------------------------------------------------------------------------------------------------------------------------------------------------------------------------------------------------------------------------------------------------------------------------------------------------------------------------------------------------------------------------------------------------------------------------------------------------------------------------------------------------------+\n",
      "|filteredwords                                                                                                                                                                                                                                                                                                                                                                                                                                                                                         |\n",
      "+------------------------------------------------------------------------------------------------------------------------------------------------------------------------------------------------------------------------------------------------------------------------------------------------------------------------------------------------------------------------------------------------------------------------------------------------------------------------------------------------------+\n",
      "|[\"il, solito\", al, pub, che, frequento, di, più, era, la, beamish., una, birra, che, non, ti, stanca, mai,, leggera, di, gradazione,, dissetante,, ne, berresti, litri!, ottima, stout, irlandese, \"caffelattosa\",, con, schiuma, spumosa, (spillatura, ad, azoto)., per, il, mio, gusto,, superiore, alla, \"sorella\", ben, più, famosa, e, diffusa.]                                                                                                                                                 |\n",
      "|[jesus, bad., sure, discriminates, lager,, taste, similar, harsh, grainy, notes,, corn,, acetaldehyde., light, bitterness.]                                                                                                                                                                                                                                                                                                                                                                           |\n",
      "|[haha,, funny, name, interesting, chalet., , popped,, stuff, smells, like, pine, tree,, lie,, real, christmas, tree,, heheh., taste, spruce, pine, needles., yes,, really, make, think, christmas., color, slightly, darker, pale., lots, hops, spices,, holiday, brew, spiced, death, glad,, dislike, holiday, spiced, brews., yes,, like, ipa, bet, ipa, lovers, like, this., really, find, orange, peel,, think, pick, little, bit, ginger, heat, finish., like, ipa, better, holiday, brews., it.]|\n",
      "|[mildly, syrupy,, overly, sweet., woody, raisiny,, that’s, real, word., “traditional, beer”, taste., sold, ounce, boxelder, miami., interesting, try,, worth, trying,, personally, wouldn’t, try, again,, style.]                                                                                                                                                                                                                                                                                     |\n",
      "|[på, gbbf, winter, 2020, birmingham., delt, med, rune., lysegrågul., filmskum., litt, uklar., ingefæraroma., smaken, dorens., kunstig., good.]                                                                                                                                                                                                                                                                                                                                                        |\n",
      "|[light, caramel, &, corn, malt,, hint, lemon, citrus, hoplight, sweet, caramel, malt,, grain/cereal,, citrus, note., light, refreshing, nothing, special]                                                                                                                                                                                                                                                                                                                                             |\n",
      "|[aroma, :, lightly, toasted, caramel, malt,, grassy, hop., , taste, :, nose,, horrible;, boring, !]                                                                                                                                                                                                                                                                                                                                                                                                   |\n",
      "|[good., unwanted, tastes, flavors, notice., 15, pack, $14.50, tax.]                                                                                                                                                                                                                                                                                                                                                                                                                                   |\n",
      "|[cocoa-colored, tan, head, stick, around., , carbonation, produces, foamy, head, lingers., , vinous,, lactic, aroma., , extremely, sour, point, difficult, taste, anything., , dry, finish, vinous, aftertaste., , feel, like, need, drink, something, sips, rehydrate, mouth., , want, like, given, positive, reviews,, seeing, it., , overall:, sour,, little, going, on,, convinced, cherries, poppies, anything.]                                                                                 |\n",
      "|[cheap, ass, hell, job., get, mine, speedway, $1.80, including, tax!!!]                                                                                                                                                                                                                                                                                                                                                                                                                               |\n",
      "|[clear,, light-yellow, colour, white, foam, dissolves, quickly, leaves, little, residue, smells, hay,, flowers—rose?, tastes, surprisingly, like, blossom, honey—sweet,, malty,, floral, notes, oily, mouthfeel,, distinct, carbonation,, lingers, relatively, shortly, great, beer, you’ve, got, sweet, tooth]                                                                                                                                                                                       |\n",
      "|[pours, hazy, amber, thin, white, head., aroma, sweet, lemon, juice., taste, sweet, lemon, hint, wheat, backbone,, malt, light, sour, notes., palate, intense, nose, note, lemon, mixed, honey, sweetness., notable.]                                                                                                                                                                                                                                                                                 |\n",
      "|[cerveza, de, color, dorado, y, fina, espuma, blanca, al, servirse., con, un, sútil, olor, lúpulo, y, sabor, malta, tostada,, naranja, y, frutas., tiene, un, final, , seco, y, amargo, muy, agradable, al, paladar.]                                                                                                                                                                                                                                                                                 |\n",
      "|[colo, amarillo, pálido, con, una, ligera, neblina., espuma, desmesurada., aroma, gaseosa, y, limón., gusto, cerveza, pale, lager, industrial, de, las, baratas, mezclada, con, gaseosa, la, casera,, notas, de, polvo, y, metálicas., cuerpo, acuoso., esta, cerveza, es, una, auténtica, estafa,, sobrecarbonatada, y, desagradable,, antes, de, pedirla, piensa, que, una, \"clara\", de, steinburg, con, gaseosa, le, va, dar, 40, vueltas.]                                                        |\n",
      "|[can:, gushed, soon, top, popped,, deep, black, huge, brown, head., aroma, vinegar, fruit, roast,, pungent, offness., taste, undrinkable, sourness,, molasses., drain, pour,, unfortunate.]                                                                                                                                                                                                                                                                                                           |\n",
      "|[500ml, bottle, (overpriced, beer, tasting, #5), thanks, juks!, (4:4:5:2-:8=2.3-), clear, red., odd, poopy, aroma, spoils, cherry, there., dark, cherry, taste., harsh, vinegary, palate., unbalanced, acidity,, harsh., funk's, barnyardy, too.]                                                                                                                                                                                                                                                     |\n",
      "|[750ml, bottle, (overpriced, beer, tasting, #5), thanks, me!, (4:3:4:2:9=2.2), solventy, aroma,, airfix, glue., vinegary, sour, palate., taste, massively, vinegary., acidic, finish., solventy, acidic., almost, undrinkable.]                                                                                                                                                                                                                                                                       |\n",
      "|[0,3, litre, bottle, old, cellar, collection., golden, white, head., malts,, hops,, yeast,, bitterness.]                                                                                                                                                                                                                                                                                                                                                                                              |\n",
      "|[jrs., pour, hazy, pale, fer, sher., rubbery, nose., taste,, kinda, rubbery, floral, time., yes,, typical, ipa,, simply, bitter, bullshit., rubbery, finish, too., else, said,, another, ubiquitous, one, million, american, ipa,, it.]                                                                                                                                                                                                                                                               |\n",
      "|[feb, 2020., bottle, frankie, bennie's., tastes, like, old, school, alcohol, free, lager., reminds, kaliber., ho, hum., drinkable., like, bottle, label.]                                                                                                                                                                                                                                                                                                                                             |\n",
      "+------------------------------------------------------------------------------------------------------------------------------------------------------------------------------------------------------------------------------------------------------------------------------------------------------------------------------------------------------------------------------------------------------------------------------------------------------------------------------------------------------+\n",
      "only showing top 20 rows\n",
      "\n"
     ]
    }
   ],
   "source": [
    "filteredSparkDF.select(\"filteredwords\").show(truncate=False)"
   ]
  },
  {
   "cell_type": "code",
   "execution_count": 31,
   "metadata": {},
   "outputs": [],
   "source": [
    "# Run the hashing term frequency\n",
    "hashing = HashingTF(inputCol=\"filteredwords\", outputCol=\"hashedValues\", numFeatures=pow(2,4))"
   ]
  },
  {
   "cell_type": "code",
   "execution_count": 32,
   "metadata": {},
   "outputs": [],
   "source": [
    "hashed_df = hashing.transform(filteredSparkDF)"
   ]
  },
  {
   "cell_type": "code",
   "execution_count": 33,
   "metadata": {},
   "outputs": [
    {
     "name": "stdout",
     "output_type": "stream",
     "text": [
      "+----------+--------------------------------------+------+-------------------------------------------+---------------------------------------------------------------------------------------------------------------------------------------------------------------------------------------------------------------------------------------------------------------------------------------------------------------------------------------------------------------------------------------------------------------------------------------------------------------------------------------------------------------------------------------------------------------------------------------------------------------------------------------------------------------------+---------------------+-----------------------------------------------------------------------------------------------------------------------------------------------------------------------------------------------------------------------------------------------------------------------------------------------------------------------------------------------------------------------------------------------------------------------------------------------------------------------------------------------------------------------------------------------------------------------------------------------------------------------------------------------------------------------------------------------------------------------------------------------------------------------------------------------------+------------------------------------------------------------------------------------------------------------------------------------------------------------------------------------------------------------------------------------------------------------------------------------------------------------------------------------------------------------------------------------------------------------------------------------------------------------------------------------------------------+--------------------------------------------------------------------------------------------------------------+\n",
      "|Unnamed: 0|Beer Names                            |Rating|Locations                                  |Reviews                                                                                                                                                                                                                                                                                                                                                                                                                                                                                                                                                                                                                                                              |Users                |words                                                                                                                                                                                                                                                                                                                                                                                                                                                                                                                                                                                                                                                                                                                                                                                                |filteredwords                                                                                                                                                                                                                                                                                                                                                                                                                                                                                         |hashedValues                                                                                                  |\n",
      "+----------+--------------------------------------+------+-------------------------------------------+---------------------------------------------------------------------------------------------------------------------------------------------------------------------------------------------------------------------------------------------------------------------------------------------------------------------------------------------------------------------------------------------------------------------------------------------------------------------------------------------------------------------------------------------------------------------------------------------------------------------------------------------------------------------+---------------------+-----------------------------------------------------------------------------------------------------------------------------------------------------------------------------------------------------------------------------------------------------------------------------------------------------------------------------------------------------------------------------------------------------------------------------------------------------------------------------------------------------------------------------------------------------------------------------------------------------------------------------------------------------------------------------------------------------------------------------------------------------------------------------------------------------+------------------------------------------------------------------------------------------------------------------------------------------------------------------------------------------------------------------------------------------------------------------------------------------------------------------------------------------------------------------------------------------------------------------------------------------------------------------------------------------------------+--------------------------------------------------------------------------------------------------------------+\n",
      "|1         |Beamish Irish Stout                   |5.0   |Cork, Ireland                              |\"il solito\" al pub che frequento di più era la Beamish. Una birra che non ti stanca mai, leggera di gradazione, dissetante, ne berresti litri!\n",
      "Ottima stout Irlandese \"caffelattosa\", con schiuma spumosa (spillatura ad azoto).\n",
      "Per il mio gusto, superiore alla \"sorella\" ben più famosa e diffusa.                                                                                                                                                                                                                                                                                                                                                                |flogisto             |[\"il, solito\", al, pub, che, frequento, di, più, era, la, beamish., una, birra, che, non, ti, stanca, mai,, leggera, di, gradazione,, dissetante,, ne, berresti, litri!, ottima, stout, irlandese, \"caffelattosa\",, con, schiuma, spumosa, (spillatura, ad, azoto)., per, il, mio, gusto,, superiore, alla, \"sorella\", ben, più, famosa, e, diffusa.]                                                                                                                                                                                                                                                                                                                                                                                                                                                |[\"il, solito\", al, pub, che, frequento, di, più, era, la, beamish., una, birra, che, non, ti, stanca, mai,, leggera, di, gradazione,, dissetante,, ne, berresti, litri!, ottima, stout, irlandese, \"caffelattosa\",, con, schiuma, spumosa, (spillatura, ad, azoto)., per, il, mio, gusto,, superiore, alla, \"sorella\", ben, più, famosa, e, diffusa.]                                                                                                                                                 |(16,[0,1,2,3,4,5,6,7,8,9,10,11,12,13,14],[3.0,1.0,3.0,4.0,7.0,1.0,2.0,3.0,4.0,4.0,5.0,2.0,3.0,4.0,1.0])       |\n",
      "|2         |Simpler Times Pilsner                 |0.6   |Monrovia, California                       |Jesus this is bad. Not sure what discriminates this from their lager, taste very similar with harsh grainy notes, corn, acetaldehyde. Light bitterness.                                                                                                                                                                                                                                                                                                                                                                                                                                                                                                              |PhillyBeer2112       |[jesus, this, is, bad., not, sure, what, discriminates, this, from, their, lager,, taste, very, similar, with, harsh, grainy, notes,, corn,, acetaldehyde., light, bitterness.]                                                                                                                                                                                                                                                                                                                                                                                                                                                                                                                                                                                                                      |[jesus, bad., sure, discriminates, lager,, taste, similar, harsh, grainy, notes,, corn,, acetaldehyde., light, bitterness.]                                                                                                                                                                                                                                                                                                                                                                           |(16,[0,2,4,6,7,11,12,13,14,15],[1.0,1.0,1.0,3.0,1.0,2.0,1.0,2.0,1.0,1.0])                                     |\n",
      "|3         |Revolution Fistmas Ale                |1.9   |Chicago, Illinois                          |HAHA, funny name and interesting can from chalet.  Once popped, this stuff smells like a pine tree, no lie, a real Christmas tree, heheh. Taste is spruce and pine needles. Yes, it really does make me think that it's Christmas. Color is slightly darker than pale. Lots of hops and very few if any spices, as in any other holiday brew that is spiced to death and I'm glad, I dislike those holiday spiced brews. Yes, more like an IPA and I bet IPA lovers will like this. Can't really find the orange peel, but I think I do pick up a little bit of ginger and heat in the finish. I don't like IPA but this is better than most holiday brews. So be it.|cheap                |[haha,, funny, name, and, interesting, can, from, chalet., , once, popped,, this, stuff, smells, like, a, pine, tree,, no, lie,, a, real, christmas, tree,, heheh., taste, is, spruce, and, pine, needles., yes,, it, really, does, make, me, think, that, it's, christmas., color, is, slightly, darker, than, pale., lots, of, hops, and, very, few, if, any, spices,, as, in, any, other, holiday, brew, that, is, spiced, to, death, and, i'm, glad,, i, dislike, those, holiday, spiced, brews., yes,, more, like, an, ipa, and, i, bet, ipa, lovers, will, like, this., can't, really, find, the, orange, peel,, but, i, think, i, do, pick, up, a, little, bit, of, ginger, and, heat, in, the, finish., i, don't, like, ipa, but, this, is, better, than, most, holiday, brews., so, be, it.]|[haha,, funny, name, interesting, chalet., , popped,, stuff, smells, like, pine, tree,, lie,, real, christmas, tree,, heheh., taste, spruce, pine, needles., yes,, really, make, think, christmas., color, slightly, darker, pale., lots, hops, spices,, holiday, brew, spiced, death, glad,, dislike, holiday, spiced, brews., yes,, like, ipa, bet, ipa, lovers, like, this., really, find, orange, peel,, think, pick, little, bit, ginger, heat, finish., like, ipa, better, holiday, brews., it.]|(16,[0,1,2,3,4,5,6,7,8,9,10,11,12,13,14,15],[4.0,1.0,7.0,1.0,1.0,4.0,5.0,2.0,3.0,2.0,9.0,6.0,4.0,5.0,7.0,6.0])|\n",
      "|4         |Samuel Adams Utopias                  |2.0   |Boston, Massachusetts                      |Mildly syrupy, but not overly sweet. Woody and raisiny, if that’s a real word. Not your “traditional beer” taste. Sold by the ounce at Boxelder in Miami. Very interesting to try, worth trying, but personally wouldn’t try it again, not my style.                                                                                                                                                                                                                                                                                                                                                                                                                 |tryeverything        |[mildly, syrupy,, but, not, overly, sweet., woody, and, raisiny,, if, that’s, a, real, word., not, your, “traditional, beer”, taste., sold, by, the, ounce, at, boxelder, in, miami., very, interesting, to, try,, worth, trying,, but, personally, wouldn’t, try, it, again,, not, my, style.]                                                                                                                                                                                                                                                                                                                                                                                                                                                                                                      |[mildly, syrupy,, overly, sweet., woody, raisiny,, that’s, real, word., “traditional, beer”, taste., sold, ounce, boxelder, miami., interesting, try,, worth, trying,, personally, wouldn’t, try, again,, style.]                                                                                                                                                                                                                                                                                     |(16,[1,3,4,5,6,7,8,9,10,11,12,13,14,15],[1.0,1.0,2.0,2.0,2.0,1.0,1.0,1.0,1.0,3.0,1.0,4.0,3.0,2.0])            |\n",
      "|5         |Ora Limoncello IPA                    |1.4   |Tottenham, Greater London                  |På GBBF Winter 2020 i Birmingham. Delt med Rune. Lysegrågul. Filmskum. Litt uklar. Ingefæraroma. Smaken dorens. Kunstig. No good.                                                                                                                                                                                                                                                                                                                                                                                                                                                                                                                                    |Finn                 |[på, gbbf, winter, 2020, i, birmingham., delt, med, rune., lysegrågul., filmskum., litt, uklar., ingefæraroma., smaken, dorens., kunstig., no, good.]                                                                                                                                                                                                                                                                                                                                                                                                                                                                                                                                                                                                                                                |[på, gbbf, winter, 2020, birmingham., delt, med, rune., lysegrågul., filmskum., litt, uklar., ingefæraroma., smaken, dorens., kunstig., good.]                                                                                                                                                                                                                                                                                                                                                        |(16,[0,1,3,6,7,8,10,11,14,15],[1.0,4.0,1.0,2.0,1.0,2.0,1.0,1.0,2.0,2.0])                                      |\n",
      "|6         |ABK Hell                              |1.5   |Kaufbeuren, Bavaria                        |Light caramel & corn malt, hint of lemon citrus hopLight sweet caramel malt, grain/cereal, and some citrus note. Light and refreshing but nothing special\n",
      "                                                                                                                                                                                                                                                                                                                                                                                                                                                                                                           |FACambridge          |[light, caramel, &, corn, malt,, hint, of, lemon, citrus, hoplight, sweet, caramel, malt,, grain/cereal,, and, some, citrus, note., light, and, refreshing, but, nothing, special]                                                                                                                                                                                                                                                                                                                                                                                                                                                                                                                                                                                                                   |[light, caramel, &, corn, malt,, hint, lemon, citrus, hoplight, sweet, caramel, malt,, grain/cereal,, citrus, note., light, refreshing, nothing, special]                                                                                                                                                                                                                                                                                                                                             |(16,[1,2,3,4,5,9,10,11,12,14],[1.0,1.0,2.0,2.0,1.0,3.0,1.0,4.0,1.0,3.0])                                      |\n",
      "|7         |ABK Fels                              |1.1   |Kaufbeuren, Bavaria                        |Aroma : Lightly toasted caramel malt, grassy hop.  Taste : As nose, not horrible; just boring !\n",
      "                                                                                                                                                                                                                                                                                                                                                                                                                                                                                                                                                                     |FACambridge          |[aroma, :, lightly, toasted, caramel, malt,, grassy, hop., , taste, :, as, nose,, not, horrible;, just, boring, !]                                                                                                                                                                                                                                                                                                                                                                                                                                                                                                                                                                                                                                                                                   |[aroma, :, lightly, toasted, caramel, malt,, grassy, hop., , taste, :, nose,, horrible;, boring, !]                                                                                                                                                                                                                                                                                                                                                                                                   |(16,[4,5,6,9,11,12,14],[5.0,1.0,3.0,2.0,2.0,1.0,1.0])                                                         |\n",
      "|8         |Shock Top Belgian White               |5.0   |St. Louis, Missouri                        |It's good. No unwanted tastes or flavors that I notice. 15 pack for $14.50 before tax.                                                                                                                                                                                                                                                                                                                                                                                                                                                                                                                                                                               |murphmn              |[it's, good., no, unwanted, tastes, or, flavors, that, i, notice., 15, pack, for, $14.50, before, tax.]                                                                                                                                                                                                                                                                                                                                                                                                                                                                                                                                                                                                                                                                                              |[good., unwanted, tastes, flavors, notice., 15, pack, $14.50, tax.]                                                                                                                                                                                                                                                                                                                                                                                                                                   |(16,[0,1,2,3,7,9,12,15],[2.0,1.0,1.0,1.0,1.0,1.0,1.0,1.0])                                                    |\n",
      "|9         |Lost Abbey Red Poppy Ale              |2.3   |San Marcos, California                     |Cocoa-colored with tan head that doesn't stick around.  Carbonation produces foamy head which lingers.  Vinous, lactic aroma.  Extremely sour to the point it's difficult to taste anything.  Very dry finish with vinous aftertaste.  Feel like I need to drink something between sips to rehydrate my mouth.  I want to like this given the other positive reviews, but I'm just not seeing it.  Overall: too sour, too little going on, and I'm not convinced the cherries or poppies are doing anything.                                                                                                                                                         |frozencemetery       |[cocoa-colored, with, tan, head, that, doesn't, stick, around., , carbonation, produces, foamy, head, which, lingers., , vinous,, lactic, aroma., , extremely, sour, to, the, point, it's, difficult, to, taste, anything., , very, dry, finish, with, vinous, aftertaste., , feel, like, i, need, to, drink, something, between, sips, to, rehydrate, my, mouth., , i, want, to, like, this, given, the, other, positive, reviews,, but, i'm, just, not, seeing, it., , overall:, too, sour,, too, little, going, on,, and, i'm, not, convinced, the, cherries, or, poppies, are, doing, anything.]                                                                                                                                                                                                 |[cocoa-colored, tan, head, stick, around., , carbonation, produces, foamy, head, lingers., , vinous,, lactic, aroma., , extremely, sour, point, difficult, taste, anything., , dry, finish, vinous, aftertaste., , feel, like, need, drink, something, sips, rehydrate, mouth., , want, like, given, positive, reviews,, seeing, it., , overall:, sour,, little, going, on,, convinced, cherries, poppies, anything.]                                                                                 |(16,[0,1,2,3,4,5,6,7,8,9,11,12,13,14,15],[4.0,3.0,2.0,4.0,4.0,4.0,4.0,4.0,2.0,2.0,4.0,10.0,3.0,2.0,2.0])      |\n",
      "|10        |Milwaukee's Best Premium              |5.0   |Milwaukee                       , Wisconsin|It's cheap ass hell and it does the job. I get mine at speedway for $1.80 That's including tax!!!                                                                                                                                                                                                                                                                                                                                                                                                                                                                                                                                                                    |torres               |[it's, cheap, ass, hell, and, it, does, the, job., i, get, mine, at, speedway, for, $1.80, that's, including, tax!!!]                                                                                                                                                                                                                                                                                                                                                                                                                                                                                                                                                                                                                                                                                |[cheap, ass, hell, job., get, mine, speedway, $1.80, including, tax!!!]                                                                                                                                                                                                                                                                                                                                                                                                                               |(16,[1,2,7,8,9,10,12,13,15],[1.0,2.0,1.0,1.0,1.0,1.0,1.0,1.0,1.0])                                            |\n",
      "|11        |Hubertus Märzen                       |4.4   |Laa an der Thaya, Austria                  |very clear, light-yellow colour\n",
      "white foam that dissolves quickly and leaves little residue\n",
      "smells of hay, flowers—rose?\n",
      "tastes surprisingly like blossom honey—sweet, malty, floral notes\n",
      "oily mouthfeel, no distinct carbonation, lingers relatively shortly\n",
      "great beer if you’ve got a sweet tooth                                                                                                                                                                                                                                                                                                                                                                |guinnessdaniel       |[very, clear,, light-yellow, colour, white, foam, that, dissolves, quickly, and, leaves, little, residue, smells, of, hay,, flowers—rose?, tastes, surprisingly, like, blossom, honey—sweet,, malty,, floral, notes, oily, mouthfeel,, no, distinct, carbonation,, lingers, relatively, shortly, great, beer, if, you’ve, got, a, sweet, tooth]                                                                                                                                                                                                                                                                                                                                                                                                                                                      |[clear,, light-yellow, colour, white, foam, dissolves, quickly, leaves, little, residue, smells, hay,, flowers—rose?, tastes, surprisingly, like, blossom, honey—sweet,, malty,, floral, notes, oily, mouthfeel,, distinct, carbonation,, lingers, relatively, shortly, great, beer, you’ve, got, sweet, tooth]                                                                                                                                                                                       |(16,[0,1,2,3,4,5,6,7,8,9,10,11,12,13,14,15],[2.0,2.0,1.0,1.0,2.0,1.0,3.0,3.0,1.0,3.0,2.0,3.0,2.0,2.0,2.0,4.0])|\n",
      "|12        |Paulaner Weissbier-Radler Alkoholfrei |3.1   |Munich, Bavaria                            |Pours hazy amber with a thin white head. Aroma of sweet lemon juice. Taste has sweet lemon with a hint of a wheat backbone, malt with light sour notes. Palate has intense nose note of lemon mixed with a honey sweetness. Notable.                                                                                                                                                                                                                                                                                                                                                                                                                                 |pdog555              |[pours, hazy, amber, with, a, thin, white, head., aroma, of, sweet, lemon, juice., taste, has, sweet, lemon, with, a, hint, of, a, wheat, backbone,, malt, with, light, sour, notes., palate, has, intense, nose, note, of, lemon, mixed, with, a, honey, sweetness., notable.]                                                                                                                                                                                                                                                                                                                                                                                                                                                                                                                      |[pours, hazy, amber, thin, white, head., aroma, sweet, lemon, juice., taste, sweet, lemon, hint, wheat, backbone,, malt, light, sour, notes., palate, intense, nose, note, lemon, mixed, honey, sweetness., notable.]                                                                                                                                                                                                                                                                                 |(16,[0,2,3,4,5,6,7,9,10,11,13,14,15],[1.0,1.0,2.0,2.0,5.0,1.0,4.0,2.0,2.0,1.0,3.0,4.0,1.0])                   |\n",
      "|13        |Anchor California Lager               |4.7   |San Francisco, California                  |Cerveza de color dorado y fina espuma blanca al servirse. Con un sútil olor a lúpulo y sabor a malta tostada, naranja y frutas. Tiene un final  seco y amargo muy agradable al paladar.                                                                                                                                                                                                                                                                                                                                                                                                                                                                              |alfonsochinchillarico|[cerveza, de, color, dorado, y, fina, espuma, blanca, al, servirse., con, un, sútil, olor, a, lúpulo, y, sabor, a, malta, tostada,, naranja, y, frutas., tiene, un, final, , seco, y, amargo, muy, agradable, al, paladar.]                                                                                                                                                                                                                                                                                                                                                                                                                                                                                                                                                                          |[cerveza, de, color, dorado, y, fina, espuma, blanca, al, servirse., con, un, sútil, olor, lúpulo, y, sabor, malta, tostada,, naranja, y, frutas., tiene, un, final, , seco, y, amargo, muy, agradable, al, paladar.]                                                                                                                                                                                                                                                                                 |(16,[1,2,3,4,5,6,8,9,10,11,12,13],[4.0,1.0,2.0,1.0,5.0,1.0,2.0,3.0,4.0,6.0,2.0,2.0])                          |\n",
      "|14        |Vox Populi Kettle Sour                |0.7   |Montréal, Quebec                           |Colo amarillo pálido con una ligera neblina. Espuma desmesurada. Aroma a gaseosa y limón. Gusto a cerveza Pale Lager industrial de las baratas mezclada con gaseosa La Casera, notas de polvo y metálicas. Cuerpo acuoso. Esta cerveza es una auténtica estafa, sobrecarbonatada y desagradable, antes de pedirla piensa que una \"clara\" de Steinburg con gaseosa le va a dar 40 vueltas.                                                                                                                                                                                                                                                                            |Suco                 |[colo, amarillo, pálido, con, una, ligera, neblina., espuma, desmesurada., aroma, a, gaseosa, y, limón., gusto, a, cerveza, pale, lager, industrial, de, las, baratas, mezclada, con, gaseosa, la, casera,, notas, de, polvo, y, metálicas., cuerpo, acuoso., esta, cerveza, es, una, auténtica, estafa,, sobrecarbonatada, y, desagradable,, antes, de, pedirla, piensa, que, una, \"clara\", de, steinburg, con, gaseosa, le, va, a, dar, 40, vueltas.]                                                                                                                                                                                                                                                                                                                                              |[colo, amarillo, pálido, con, una, ligera, neblina., espuma, desmesurada., aroma, gaseosa, y, limón., gusto, cerveza, pale, lager, industrial, de, las, baratas, mezclada, con, gaseosa, la, casera,, notas, de, polvo, y, metálicas., cuerpo, acuoso., esta, cerveza, es, una, auténtica, estafa,, sobrecarbonatada, y, desagradable,, antes, de, pedirla, piensa, que, una, \"clara\", de, steinburg, con, gaseosa, le, va, dar, 40, vueltas.]                                                        |(16,[1,2,3,4,5,6,7,8,9,10,11,12,13,14],[7.0,3.0,7.0,8.0,3.0,7.0,1.0,4.0,2.0,3.0,5.0,3.0,1.0,4.0])             |\n",
      "|15        |Brass Castle Very Bad Kitty           |1.8   |Malton, North Yorkshire                    |Can: Gushed as soon as the top was popped, deep black with huge brown head. Aroma was vinegar fruit some roast, very pungent offness. Taste was undrinkable sourness, some molasses. Drain pour, which is unfortunate.                                                                                                                                                                                                                                                                                                                                                                                                                                               |SHIG                 |[can:, gushed, as, soon, as, the, top, was, popped,, deep, black, with, huge, brown, head., aroma, was, vinegar, fruit, some, roast,, very, pungent, offness., taste, was, undrinkable, sourness,, some, molasses., drain, pour,, which, is, unfortunate.]                                                                                                                                                                                                                                                                                                                                                                                                                                                                                                                                           |[can:, gushed, soon, top, popped,, deep, black, huge, brown, head., aroma, vinegar, fruit, roast,, pungent, offness., taste, undrinkable, sourness,, molasses., drain, pour,, unfortunate.]                                                                                                                                                                                                                                                                                                           |(16,[0,1,2,4,5,6,7,9,10,11,14],[2.0,3.0,2.0,3.0,1.0,3.0,1.0,1.0,3.0,2.0,2.0])                                 |\n",
      "|16        |Oud Beersel Schaarbeekse Oude Kriek   |2.3   |Beersel, Belgium                           |500ml bottle (Overpriced Beer Tasting #5) thanks Juks! (4:4:5:2-:8=2.3-)\n",
      "Clear red. Odd poopy aroma spoils the cherry that's there. Dark cherry taste. Harsh vinegary palate. Unbalanced acidity, harsh. Funk's too barnyardy too.\n",
      "                                                                                                                                                                                                                                                                                                                                                                                                                                  |FatPhil              |[500ml, bottle, (overpriced, beer, tasting, #5), thanks, juks!, (4:4:5:2-:8=2.3-), clear, red., odd, poopy, aroma, spoils, the, cherry, that's, there., dark, cherry, taste., harsh, vinegary, palate., unbalanced, acidity,, harsh., funk's, too, barnyardy, too.]                                                                                                                                                                                                                                                                                                                                                                                                                                                                                                                                  |[500ml, bottle, (overpriced, beer, tasting, #5), thanks, juks!, (4:4:5:2-:8=2.3-), clear, red., odd, poopy, aroma, spoils, cherry, there., dark, cherry, taste., harsh, vinegary, palate., unbalanced, acidity,, harsh., funk's, barnyardy, too.]                                                                                                                                                                                                                                                     |(16,[1,2,3,4,5,8,9,10,11,12,13,14],[2.0,2.0,1.0,5.0,2.0,2.0,1.0,5.0,2.0,1.0,2.0,4.0])                         |\n",
      "|17        |BFM Abbaye de Saint Bon-Chien (2015)  |2.2   |Saignelégier, Switzerland                  |750ml bottle (Overpriced Beer Tasting #5) thanks me! (4:3:4:2:9=2.2)\n",
      "very solventy aroma, airfix glue. Vinegary sour palate. Taste is massively vinegary. Acidic finish. So solventy and acidic. Almost undrinkable.\n",
      "                                                                                                                                                                                                                                                                                                                                                                                                                                                |FatPhil              |[750ml, bottle, (overpriced, beer, tasting, #5), thanks, me!, (4:3:4:2:9=2.2), very, solventy, aroma,, airfix, glue., vinegary, sour, palate., taste, is, massively, vinegary., acidic, finish., so, solventy, and, acidic., almost, undrinkable.]                                                                                                                                                                                                                                                                                                                                                                                                                                                                                                                                                   |[750ml, bottle, (overpriced, beer, tasting, #5), thanks, me!, (4:3:4:2:9=2.2), solventy, aroma,, airfix, glue., vinegary, sour, palate., taste, massively, vinegary., acidic, finish., solventy, acidic., almost, undrinkable.]                                                                                                                                                                                                                                                                       |(16,[0,1,2,4,5,6,7,8,9,10,11,12,13,14,15],[1.0,1.0,1.0,5.0,2.0,1.0,1.0,1.0,1.0,1.0,2.0,1.0,1.0,4.0,2.0])      |\n",
      "|18        |Summer Wine Sabertooth IPA            |1.7   |Holmfirth, West Yorkshire                  |0,3 litre Bottle from Old Cellar Collection. Golden with white head. Malts, hops, yeast, bitterness.                                                                                                                                                                                                                                                                                                                                                                                                                                                                                                                                                                 |ChrisOfstad          |[0,3, litre, bottle, from, old, cellar, collection., golden, with, white, head., malts,, hops,, yeast,, bitterness.]                                                                                                                                                                                                                                                                                                                                                                                                                                                                                                                                                                                                                                                                                 |[0,3, litre, bottle, old, cellar, collection., golden, white, head., malts,, hops,, yeast,, bitterness.]                                                                                                                                                                                                                                                                                                                                                                                              |(16,[2,3,6,8,9,12,13,14,15],[3.0,1.0,2.0,1.0,1.0,2.0,1.0,1.0,1.0])                                            |\n",
      "|19        |Victory Cloud Walker IPA              |1.1   |Downingtown, Pennsylvania                  |Can from JRs. Pour is hazy pale fer sher. Rubbery nose. Same with taste, its kinda rubbery and floral at the same time. Yes, typical IPA, simply bitter bullshit. Rubbery finish too. What else can be said, its just another ubiquitous one of a million american IPA, there you have it.                                                                                                                                                                                                                                                                                                                                                                           |cheap                |[can, from, jrs., pour, is, hazy, pale, fer, sher., rubbery, nose., same, with, taste,, its, kinda, rubbery, and, floral, at, the, same, time., yes,, typical, ipa,, simply, bitter, bullshit., rubbery, finish, too., what, else, can, be, said,, its, just, another, ubiquitous, one, of, a, million, american, ipa,, there, you, have, it.]                                                                                                                                                                                                                                                                                                                                                                                                                                                       |[jrs., pour, hazy, pale, fer, sher., rubbery, nose., taste,, kinda, rubbery, floral, time., yes,, typical, ipa,, simply, bitter, bullshit., rubbery, finish, too., else, said,, another, ubiquitous, one, million, american, ipa,, it.]                                                                                                                                                                                                                                                               |(16,[0,1,3,4,5,6,7,8,9,10,11,12,13,14],[1.0,3.0,2.0,1.0,1.0,2.0,5.0,1.0,1.0,1.0,2.0,3.0,4.0,4.0])             |\n",
      "|20        |Brooklyn Special Effects              |1.2   |Brooklyn, New York                         |Feb 2020. Bottle at Frankie and Bennie's. Tastes like an old school alcohol free lager. Reminds me of Kaliber. Ho hum. Drinkable. I like the bottle label.                                                                                                                                                                                                                                                                                                                                                                                                                                                                                                           |SilkTork             |[feb, 2020., bottle, at, frankie, and, bennie's., tastes, like, an, old, school, alcohol, free, lager., reminds, me, of, kaliber., ho, hum., drinkable., i, like, the, bottle, label.]                                                                                                                                                                                                                                                                                                                                                                                                                                                                                                                                                                                                               |[feb, 2020., bottle, frankie, bennie's., tastes, like, old, school, alcohol, free, lager., reminds, kaliber., ho, hum., drinkable., like, bottle, label.]                                                                                                                                                                                                                                                                                                                                             |(16,[0,1,2,3,5,6,7,8,10,11,12,13,15],[1.0,1.0,4.0,2.0,1.0,1.0,1.0,1.0,2.0,1.0,2.0,1.0,2.0])                   |\n",
      "+----------+--------------------------------------+------+-------------------------------------------+---------------------------------------------------------------------------------------------------------------------------------------------------------------------------------------------------------------------------------------------------------------------------------------------------------------------------------------------------------------------------------------------------------------------------------------------------------------------------------------------------------------------------------------------------------------------------------------------------------------------------------------------------------------------+---------------------+-----------------------------------------------------------------------------------------------------------------------------------------------------------------------------------------------------------------------------------------------------------------------------------------------------------------------------------------------------------------------------------------------------------------------------------------------------------------------------------------------------------------------------------------------------------------------------------------------------------------------------------------------------------------------------------------------------------------------------------------------------------------------------------------------------+------------------------------------------------------------------------------------------------------------------------------------------------------------------------------------------------------------------------------------------------------------------------------------------------------------------------------------------------------------------------------------------------------------------------------------------------------------------------------------------------------+--------------------------------------------------------------------------------------------------------------+\n",
      "only showing top 20 rows\n",
      "\n"
     ]
    }
   ],
   "source": [
    "hashed_df.show(truncate=False)"
   ]
  },
  {
   "cell_type": "code",
   "execution_count": 34,
   "metadata": {},
   "outputs": [
    {
     "data": {
      "text/plain": [
       "[('Unnamed: 0', 'string'),\n",
       " ('Beer Names', 'string'),\n",
       " ('Rating', 'string'),\n",
       " ('Locations', 'string'),\n",
       " ('Reviews', 'string'),\n",
       " ('Users', 'string'),\n",
       " ('words', 'array<string>'),\n",
       " ('filteredwords', 'array<string>'),\n",
       " ('hashedValues', 'vector')]"
      ]
     },
     "execution_count": 34,
     "metadata": {},
     "output_type": "execute_result"
    }
   ],
   "source": [
    "hashed_df.dtypes"
   ]
  },
  {
   "cell_type": "code",
   "execution_count": 35,
   "metadata": {},
   "outputs": [],
   "source": [
    "idf = IDF(inputCol=\"hashedValues\", outputCol=\"features\")\n",
    "idfModel = idf.fit(hashed_df)\n",
    "rescaledData = idfModel.transform(hashed_df)"
   ]
  },
  {
   "cell_type": "code",
   "execution_count": 36,
   "metadata": {},
   "outputs": [
    {
     "name": "stdout",
     "output_type": "stream",
     "text": [
      "+-----------------------------------------------------------------------------------------------------------------------------------------------------------------------------------------------------------------------------------------------------------------------------------------------------------------------------------------------------------------------------------------------------------------------------------------------------------------------------------------------------------------------------------------------------------------------------------------------------------------------------------------------------------------------------------------------------------------------------------------------------------------------------------------------------+---------------------------------------------------------------------------------------------------------------------------------------------------------------------------------------------------------------------------------------------------------------------------------------------------------------------------------------------------------------+\n",
      "|words                                                                                                                                                                                                                                                                                                                                                                                                                                                                                                                                                                                                                                                                                                                                                                                                |features                                                                                                                                                                                                                                                                                                                                                       |\n",
      "+-----------------------------------------------------------------------------------------------------------------------------------------------------------------------------------------------------------------------------------------------------------------------------------------------------------------------------------------------------------------------------------------------------------------------------------------------------------------------------------------------------------------------------------------------------------------------------------------------------------------------------------------------------------------------------------------------------------------------------------------------------------------------------------------------------+---------------------------------------------------------------------------------------------------------------------------------------------------------------------------------------------------------------------------------------------------------------------------------------------------------------------------------------------------------------+\n",
      "|[\"il, solito\", al, pub, che, frequento, di, più, era, la, beamish., una, birra, che, non, ti, stanca, mai,, leggera, di, gradazione,, dissetante,, ne, berresti, litri!, ottima, stout, irlandese, \"caffelattosa\",, con, schiuma, spumosa, (spillatura, ad, azoto)., per, il, mio, gusto,, superiore, alla, \"sorella\", ben, più, famosa, e, diffusa.]                                                                                                                                                                                                                                                                                                                                                                                                                                                |(16,[0,1,2,3,4,5,6,7,8,9,10,11,12,13,14],[1.0540022210483553,0.24093244518099854,0.591119487430459,1.0949404994486367,1.029016790877006,0.2485468589468373,0.46063571220586935,0.8629451783374323,1.1603049327791675,1.0843261904472907,1.4828971998221334,0.6365791068547764,0.7448633747636262,0.8232581019931718,0.1872442322669795])                       |\n",
      "|[jesus, this, is, bad., not, sure, what, discriminates, this, from, their, lager,, taste, very, similar, with, harsh, grainy, notes,, corn,, acetaldehyde., light, bitterness.]                                                                                                                                                                                                                                                                                                                                                                                                                                                                                                                                                                                                                      |(16,[0,2,4,6,7,11,12,13,14,15],[0.3513340736827851,0.1970398291434863,0.14700239869671514,0.6909535683088041,0.2876483927791441,0.6365791068547764,0.2482877915878754,0.4116290509965859,0.1872442322669795,0.36100016639990495])                                                                                                                              |\n",
      "|[haha,, funny, name, and, interesting, can, from, chalet., , once, popped,, this, stuff, smells, like, a, pine, tree,, no, lie,, a, real, christmas, tree,, heheh., taste, is, spruce, and, pine, needles., yes,, it, really, does, make, me, think, that, it's, christmas., color, is, slightly, darker, than, pale., lots, of, hops, and, very, few, if, any, spices,, as, in, any, other, holiday, brew, that, is, spiced, to, death, and, i'm, glad,, i, dislike, those, holiday, spiced, brews., yes,, more, like, an, ipa, and, i, bet, ipa, lovers, will, like, this., can't, really, find, the, orange, peel,, but, i, think, i, do, pick, up, a, little, bit, of, ginger, and, heat, in, the, finish., i, don't, like, ipa, but, this, is, better, than, most, holiday, brews., so, be, it.]|(16,[0,1,2,3,4,5,6,7,8,9,10,11,12,13,14,15],[1.4053362947311403,0.24093244518099854,1.3792788040044042,0.2737351248621592,0.14700239869671514,0.9941874357873492,1.1515892805146735,0.5752967855582882,0.8702286995843755,0.5421630952236454,2.6692149596798402,1.909737320564329,0.9931511663515016,1.0290726274914648,1.3107096258688564,2.1660009983994297])|\n",
      "|[mildly, syrupy,, but, not, overly, sweet., woody, and, raisiny,, if, that’s, a, real, word., not, your, “traditional, beer”, taste., sold, by, the, ounce, at, boxelder, in, miami., very, interesting, to, try,, worth, trying,, but, personally, wouldn’t, try, it, again,, not, my, style.]                                                                                                                                                                                                                                                                                                                                                                                                                                                                                                      |(16,[1,3,4,5,6,7,8,9,10,11,12,13,14,15],[0.24093244518099854,0.2737351248621592,0.2940047973934303,0.4970937178936746,0.46063571220586935,0.2876483927791441,0.29007623319479187,0.2710815476118227,0.2965794399644267,0.9548686602821645,0.2482877915878754,0.8232581019931718,0.5617326968009385,0.7220003327998099])                                        |\n",
      "|[på, gbbf, winter, 2020, i, birmingham., delt, med, rune., lysegrågul., filmskum., litt, uklar., ingefæraroma., smaken, dorens., kunstig., no, good.]                                                                                                                                                                                                                                                                                                                                                                                                                                                                                                                                                                                                                                                |(16,[0,1,3,6,7,8,10,11,14,15],[0.3513340736827851,0.9637297807239942,0.2737351248621592,0.46063571220586935,0.2876483927791441,0.5801524663895837,0.2965794399644267,0.3182895534273882,0.374488464533959,0.7220003327998099])                                                                                                                                 |\n",
      "|[light, caramel, &, corn, malt,, hint, of, lemon, citrus, hoplight, sweet, caramel, malt,, grain/cereal,, and, some, citrus, note., light, and, refreshing, but, nothing, special]                                                                                                                                                                                                                                                                                                                                                                                                                                                                                                                                                                                                                   |(16,[1,2,3,4,5,9,10,11,12,14],[0.24093244518099854,0.1970398291434863,0.5474702497243183,0.2940047973934303,0.2485468589468373,0.813244642835468,0.2965794399644267,1.2731582137095527,0.2482877915878754,0.5617326968009385])                                                                                                                                 |\n",
      "|[aroma, :, lightly, toasted, caramel, malt,, grassy, hop., , taste, :, as, nose,, not, horrible;, just, boring, !]                                                                                                                                                                                                                                                                                                                                                                                                                                                                                                                                                                                                                                                                                   |(16,[4,5,6,9,11,12,14],[0.7350119934835757,0.2485468589468373,0.6909535683088041,0.5421630952236454,0.6365791068547764,0.2482877915878754,0.1872442322669795])                                                                                                                                                                                                 |\n",
      "|[it's, good., no, unwanted, tastes, or, flavors, that, i, notice., 15, pack, for, $14.50, before, tax.]                                                                                                                                                                                                                                                                                                                                                                                                                                                                                                                                                                                                                                                                                              |(16,[0,1,2,3,7,9,12,15],[0.7026681473655702,0.24093244518099854,0.1970398291434863,0.2737351248621592,0.2876483927791441,0.2710815476118227,0.2482877915878754,0.36100016639990495])                                                                                                                                                                           |\n",
      "|[cocoa-colored, with, tan, head, that, doesn't, stick, around., , carbonation, produces, foamy, head, which, lingers., , vinous,, lactic, aroma., , extremely, sour, to, the, point, it's, difficult, to, taste, anything., , very, dry, finish, with, vinous, aftertaste., , feel, like, i, need, to, drink, something, between, sips, to, rehydrate, my, mouth., , i, want, to, like, this, given, the, other, positive, reviews,, but, i'm, just, not, seeing, it., , overall:, too, sour,, too, little, going, on,, and, i'm, not, convinced, the, cherries, or, poppies, are, doing, anything.]                                                                                                                                                                                                 |(16,[0,1,2,3,4,5,6,7,8,9,11,12,13,14,15],[1.4053362947311403,0.7227973355429956,0.3940796582869726,1.0949404994486367,0.5880095947868605,0.9941874357873492,0.9212714244117387,1.1505935711165765,0.5801524663895837,0.5421630952236454,1.2731582137095527,2.482877915878754,0.6174435764948789,0.374488464533959,0.7220003327998099])                         |\n",
      "|[it's, cheap, ass, hell, and, it, does, the, job., i, get, mine, at, speedway, for, $1.80, that's, including, tax!!!]                                                                                                                                                                                                                                                                                                                                                                                                                                                                                                                                                                                                                                                                                |(16,[1,2,7,8,9,10,12,13,15],[0.24093244518099854,0.3940796582869726,0.2876483927791441,0.29007623319479187,0.2710815476118227,0.2965794399644267,0.2482877915878754,0.20581452549829296,0.36100016639990495])                                                                                                                                                  |\n",
      "|[very, clear,, light-yellow, colour, white, foam, that, dissolves, quickly, and, leaves, little, residue, smells, of, hay,, flowers—rose?, tastes, surprisingly, like, blossom, honey—sweet,, malty,, floral, notes, oily, mouthfeel,, no, distinct, carbonation,, lingers, relatively, shortly, great, beer, if, you’ve, got, a, sweet, tooth]                                                                                                                                                                                                                                                                                                                                                                                                                                                      |(16,[0,1,2,3,4,5,6,7,8,9,10,11,12,13,14,15],[0.7026681473655702,0.4818648903619971,0.1970398291434863,0.2737351248621592,0.2940047973934303,0.2485468589468373,0.6909535683088041,0.8629451783374323,0.29007623319479187,0.813244642835468,0.5931588799288534,0.9548686602821645,0.4965755831757508,0.4116290509965859,0.374488464533959,1.4440006655996198])  |\n",
      "|[pours, hazy, amber, with, a, thin, white, head., aroma, of, sweet, lemon, juice., taste, has, sweet, lemon, with, a, hint, of, a, wheat, backbone,, malt, with, light, sour, notes., palate, has, intense, nose, note, of, lemon, mixed, with, a, honey, sweetness., notable.]                                                                                                                                                                                                                                                                                                                                                                                                                                                                                                                      |(16,[0,2,3,4,5,6,7,9,10,11,13,14,15],[0.3513340736827851,0.1970398291434863,0.5474702497243183,0.2940047973934303,1.2427342947341866,0.23031785610293468,1.1505935711165765,0.5421630952236454,0.5931588799288534,0.3182895534273882,0.6174435764948789,0.748976929067918,0.36100016639990495])                                                                |\n",
      "|[cerveza, de, color, dorado, y, fina, espuma, blanca, al, servirse., con, un, sútil, olor, a, lúpulo, y, sabor, a, malta, tostada,, naranja, y, frutas., tiene, un, final, , seco, y, amargo, muy, agradable, al, paladar.]                                                                                                                                                                                                                                                                                                                                                                                                                                                                                                                                                                          |(16,[1,2,3,4,5,6,8,9,10,11,12,13],[0.9637297807239942,0.1970398291434863,0.5474702497243183,0.14700239869671514,1.2427342947341866,0.23031785610293468,0.5801524663895837,0.813244642835468,1.1863177598577068,1.909737320564329,0.4965755831757508,0.4116290509965859])                                                                                       |\n",
      "|[colo, amarillo, pálido, con, una, ligera, neblina., espuma, desmesurada., aroma, a, gaseosa, y, limón., gusto, a, cerveza, pale, lager, industrial, de, las, baratas, mezclada, con, gaseosa, la, casera,, notas, de, polvo, y, metálicas., cuerpo, acuoso., esta, cerveza, es, una, auténtica, estafa,, sobrecarbonatada, y, desagradable,, antes, de, pedirla, piensa, que, una, \"clara\", de, steinburg, con, gaseosa, le, va, a, dar, 40, vueltas.]                                                                                                                                                                                                                                                                                                                                              |(16,[1,2,3,4,5,6,7,8,9,10,11,12,13,14],[1.6865271162669897,0.591119487430459,1.9161458740351143,1.176019189573721,0.7456405768405119,1.6122249927205428,0.2876483927791441,1.1603049327791675,0.5421630952236454,0.8897383198932801,1.591447767136941,0.7448633747636262,0.20581452549829296,0.748976929067918])                                               |\n",
      "|[can:, gushed, as, soon, as, the, top, was, popped,, deep, black, with, huge, brown, head., aroma, was, vinegar, fruit, some, roast,, very, pungent, offness., taste, was, undrinkable, sourness,, some, molasses., drain, pour,, which, is, unfortunate.]                                                                                                                                                                                                                                                                                                                                                                                                                                                                                                                                           |(16,[0,1,2,4,5,6,7,9,10,11,14],[0.7026681473655702,0.7227973355429956,0.3940796582869726,0.4410071960901454,0.2485468589468373,0.6909535683088041,0.2876483927791441,0.2710815476118227,0.8897383198932801,0.6365791068547764,0.374488464533959])                                                                                                              |\n",
      "|[500ml, bottle, (overpriced, beer, tasting, #5), thanks, juks!, (4:4:5:2-:8=2.3-), clear, red., odd, poopy, aroma, spoils, the, cherry, that's, there., dark, cherry, taste., harsh, vinegary, palate., unbalanced, acidity,, harsh., funk's, too, barnyardy, too.]                                                                                                                                                                                                                                                                                                                                                                                                                                                                                                                                  |(16,[1,2,3,4,5,8,9,10,11,12,13,14],[0.4818648903619971,0.3940796582869726,0.2737351248621592,0.7350119934835757,0.4970937178936746,0.5801524663895837,0.2710815476118227,1.4828971998221334,0.6365791068547764,0.2482877915878754,0.4116290509965859,0.748976929067918])                                                                                       |\n",
      "|[750ml, bottle, (overpriced, beer, tasting, #5), thanks, me!, (4:3:4:2:9=2.2), very, solventy, aroma,, airfix, glue., vinegary, sour, palate., taste, is, massively, vinegary., acidic, finish., so, solventy, and, acidic., almost, undrinkable.]                                                                                                                                                                                                                                                                                                                                                                                                                                                                                                                                                   |(16,[0,1,2,4,5,6,7,8,9,10,11,12,13,14,15],[0.3513340736827851,0.24093244518099854,0.1970398291434863,0.7350119934835757,0.4970937178936746,0.23031785610293468,0.2876483927791441,0.29007623319479187,0.2710815476118227,0.2965794399644267,0.6365791068547764,0.2482877915878754,0.20581452549829296,0.748976929067918,0.7220003327998099])                   |\n",
      "|[0,3, litre, bottle, from, old, cellar, collection., golden, with, white, head., malts,, hops,, yeast,, bitterness.]                                                                                                                                                                                                                                                                                                                                                                                                                                                                                                                                                                                                                                                                                 |(16,[2,3,6,8,9,12,13,14,15],[0.591119487430459,0.2737351248621592,0.46063571220586935,0.29007623319479187,0.2710815476118227,0.4965755831757508,0.20581452549829296,0.1872442322669795,0.36100016639990495])                                                                                                                                                   |\n",
      "|[can, from, jrs., pour, is, hazy, pale, fer, sher., rubbery, nose., same, with, taste,, its, kinda, rubbery, and, floral, at, the, same, time., yes,, typical, ipa,, simply, bitter, bullshit., rubbery, finish, too., what, else, can, be, said,, its, just, another, ubiquitous, one, of, a, million, american, ipa,, there, you, have, it.]                                                                                                                                                                                                                                                                                                                                                                                                                                                       |(16,[0,1,3,4,5,6,7,8,9,10,11,12,13,14],[0.3513340736827851,0.7227973355429956,0.5474702497243183,0.14700239869671514,0.2485468589468373,0.46063571220586935,1.4382419638957207,0.29007623319479187,0.2710815476118227,0.2965794399644267,0.6365791068547764,0.7448633747636262,0.8232581019931718,0.748976929067918])                                          |\n",
      "|[feb, 2020., bottle, at, frankie, and, bennie's., tastes, like, an, old, school, alcohol, free, lager., reminds, me, of, kaliber., ho, hum., drinkable., i, like, the, bottle, label.]                                                                                                                                                                                                                                                                                                                                                                                                                                                                                                                                                                                                               |(16,[0,1,2,3,5,6,7,8,10,11,12,13,15],[0.3513340736827851,0.24093244518099854,0.7881593165739452,0.5474702497243183,0.2485468589468373,0.23031785610293468,0.2876483927791441,0.29007623319479187,0.5931588799288534,0.3182895534273882,0.4965755831757508,0.20581452549829296,0.7220003327998099])                                                             |\n",
      "+-----------------------------------------------------------------------------------------------------------------------------------------------------------------------------------------------------------------------------------------------------------------------------------------------------------------------------------------------------------------------------------------------------------------------------------------------------------------------------------------------------------------------------------------------------------------------------------------------------------------------------------------------------------------------------------------------------------------------------------------------------------------------------------------------------+---------------------------------------------------------------------------------------------------------------------------------------------------------------------------------------------------------------------------------------------------------------------------------------------------------------------------------------------------------------+\n",
      "only showing top 20 rows\n",
      "\n"
     ]
    }
   ],
   "source": [
    "rescaledData.select(\"words\", \"features\").show(truncate=False)"
   ]
  },
  {
   "cell_type": "code",
   "execution_count": null,
   "metadata": {},
   "outputs": [],
   "source": []
  },
  {
   "cell_type": "code",
   "execution_count": null,
   "metadata": {},
   "outputs": [],
   "source": []
  },
  {
   "cell_type": "code",
   "execution_count": null,
   "metadata": {
    "nbgrader": {
     "grade": false,
     "grade_id": "cell-97f9d8f3d4b7abc1",
     "locked": false,
     "schema_version": 1,
     "solution": true
    }
   },
   "outputs": [],
   "source": [
    "# Use train_test_split to create training and testing data\n",
    "\n",
    "### BEGIN SOLUTION\n",
    "from sklearn.model_selection import train_test_split\n",
    "\n",
    "X_train, X_test, y_train, y_test = train_test_split(X, y, random_state=42)\n",
    "\n",
    "### END SOLUTION"
   ]
  },
  {
   "cell_type": "code",
   "execution_count": null,
   "metadata": {
    "nbgrader": {
     "grade": false,
     "grade_id": "cell-500eedfd487be441",
     "locked": false,
     "schema_version": 1,
     "solution": true
    }
   },
   "outputs": [],
   "source": [
    "# Create the model using LinearRegression\n",
    "\n",
    "### BEGIN SOLUTION\n",
    "from sklearn.linear_model import LinearRegression\n",
    "model = LinearRegression()\n",
    "### END SOLUTION"
   ]
  },
  {
   "cell_type": "code",
   "execution_count": null,
   "metadata": {
    "nbgrader": {
     "grade": false,
     "grade_id": "cell-715f0369813d2b84",
     "locked": false,
     "schema_version": 1,
     "solution": true
    }
   },
   "outputs": [],
   "source": [
    "# Fit the model to the training data and calculate the scores for the training and testing data\n",
    "\n",
    "### BEGIN SOLUTION\n",
    "model.fit(X_train, y_train)\n",
    "training_score = model.score(X_train, y_train)\n",
    "testing_score = model.score(X_test, y_test)\n",
    "\n",
    "### END SOLUTION \n",
    "\n",
    "print(f\"Training Score: {training_score}\")\n",
    "print(f\"Testing Score: {testing_score}\")"
   ]
  },
  {
   "cell_type": "code",
   "execution_count": null,
   "metadata": {
    "nbgrader": {
     "grade": false,
     "grade_id": "cell-90aed41fb7c4f723",
     "locked": false,
     "schema_version": 1,
     "solution": true
    }
   },
   "outputs": [],
   "source": [
    "# Plot the Residuals for the Training and Testing data\n",
    "\n",
    "### BEGIN SOLUTION\n",
    "plt.scatter(model.predict(X_train), model.predict(X_train) - y_train, c=\"blue\", label=\"Training Data\")\n",
    "plt.scatter(model.predict(X_test), model.predict(X_test) - y_test, c=\"orange\", label=\"Testing Data\")\n",
    "plt.legend()\n",
    "plt.hlines(y=0, xmin=y.min(), xmax=y.max())\n",
    "plt.title(\"Residual Plot\")\n",
    "### END SOLUTION"
   ]
  },
  {
   "cell_type": "code",
   "execution_count": null,
   "metadata": {},
   "outputs": [],
   "source": []
  }
 ],
 "metadata": {
  "celltoolbar": "Create Assignment",
  "kernelspec": {
   "display_name": "Python 3",
   "language": "python",
   "name": "python3"
  },
  "language_info": {
   "codemirror_mode": {
    "name": "ipython",
    "version": 3
   },
   "file_extension": ".py",
   "mimetype": "text/x-python",
   "name": "python",
   "nbconvert_exporter": "python",
   "pygments_lexer": "ipython3",
   "version": "3.7.3"
  },
  "varInspector": {
   "cols": {
    "lenName": 16,
    "lenType": 16,
    "lenVar": 40
   },
   "kernels_config": {
    "python": {
     "delete_cmd_postfix": "",
     "delete_cmd_prefix": "del ",
     "library": "var_list.py",
     "varRefreshCmd": "print(var_dic_list())"
    },
    "r": {
     "delete_cmd_postfix": ") ",
     "delete_cmd_prefix": "rm(",
     "library": "var_list.r",
     "varRefreshCmd": "cat(var_dic_list()) "
    }
   },
   "types_to_exclude": [
    "module",
    "function",
    "builtin_function_or_method",
    "instance",
    "_Feature"
   ],
   "window_display": false
  }
 },
 "nbformat": 4,
 "nbformat_minor": 2
}
