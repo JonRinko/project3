{
 "cells": [
  {
   "cell_type": "code",
   "execution_count": 3,
   "metadata": {},
   "outputs": [],
   "source": [
    "import pandas as pd\n",
    "import sqlalchemy as sq\n",
    "import numpy as np \n",
    "import requests\n",
    "import urllib.request\n",
    "import time\n",
    "from bs4 import BeautifulSoup"
   ]
  },
  {
   "cell_type": "code",
   "execution_count": 4,
   "metadata": {},
   "outputs": [
    {
     "name": "stderr",
     "output_type": "stream",
     "text": [
      "C:\\Users\\nidas\\Anaconda\\lib\\site-packages\\urllib3\\connectionpool.py:847: InsecureRequestWarning: Unverified HTTPS request is being made. Adding certificate verification is strongly advised. See: https://urllib3.readthedocs.io/en/latest/advanced-usage.html#ssl-warnings\n",
      "  InsecureRequestWarning)\n"
     ]
    }
   ],
   "source": [
    "url = 'http://www.ratebeer.com/beer-ratings/'\n",
    "response = requests.get(url, verify=False)\n",
    "response.status_code\n",
    "\n",
    "soup = BeautifulSoup(response.text, 'html.parser')\n"
   ]
  },
  {
   "cell_type": "code",
   "execution_count": 5,
   "metadata": {},
   "outputs": [
    {
     "data": {
      "text/plain": [
       "[<div style=\"color:#666;\">Can, WW. Murky golden orange with a small white head. Funk, trash water, leather, light citrus (but I'm not getting blood orange). Flavor is funk, hay, citrus peel, grasses. Not loving this.</div>,\n",
       " <div style=\"color:#666;\">Can, brewed and canned in Vietnam. Il gusto al naso resta attratto dall'orzo tostato. L'intensità olfattiva è normale e la maniera in cui permane è sufficiente. Il mantello birroso superiore color marrone castagno è caratterizzato da una schiuma che resiste abbastanza. La grandezza delle bollicine è a grana fine. Il colore è come l'inchiostro nero. Il corpo è rotondo. Il dolce è medio. L'amaro è di media potenza. La forza gustativa è normale e permane in maniera sufficiente. Il gusto è piacevole. Le sensazioni boccali finali risultano di pronta beva. Il retrogusto è di media intensità. In bocca l'aroma è quello di miele, cereali, pane tostato, erbaceo e agrumi.</div>,\n",
       " <div style=\"color:#666;\">Delt med Rune på rom 410 Premier Inn Waterloo, Birmingham. Gylden. Uklar. Høyt kremaktig skum som daler sakte. Klaselacing. God sitrusaroma. Vel mye kullsyre. Smaken fersken &amp; sitrusfrukt. Forsiktig bitter avslutning. Veldig bra ut fra styrken.</div>,\n",
       " <div style=\"color:#666;\">16 oz can from Joe Canal's, 2/3/20.  Pours a fully hazed darker yellowish color with a nice, frothy head and some strong lacework.  Lots of tangerine and orange here.  Lemon and a little pineapple.  Candied citrus on the finish.  Soft, smooth, and somewhat creamy.  Not amazing, but some pretty good stuff.  \n",
       " </div>,\n",
       " <div style=\"color:#666;\">PET growler from the brewery. A mostly clear copper coloured pour with almost no head. Aroma is earthy toffee, brown sugars twig, some grassy hop. Flavour is composed of semi sweet, toffee malts, grass, bramble, hedgerow hop, little dirty. Palate is semi sweet, low tang, grainy, moderate low</div>,\n",
       " <div style=\"color:#666;\">Delt med Rune. Svart. Mokkafarget filmskum. Spotlacing. Lett lakrisaroma. Smaken lakris &amp; kakao. Tørr avslutning.</div>,\n",
       " <div style=\"color:#666;\">Imperial stout de 9,5 % abv et 75 ebu, en format 35,5 cl.\n",
       " A noter qu'il est toujours très agréable de rencontrer le yéti en février,\n",
       " surtout quand les températures du jour et du lieu avoisinaient les 24° C.\n",
       " Mon exemplaire, de Denver, Colorado, était à 9 mois avant sa date.\n",
       " Couleur noir profond aux reflets marron grillé, à l'opacité très forte.\n",
       " Mousse brun roux foncé, soyeuse, stable à 2 mm.\n",
       " Arômes de cèdre, baies noires macérées en péket, chêne liège brûlé.\n",
       " 1ère bouche très souple, sur un bois brûlé de la plus belle manière …\n",
       " (si l'on peut dire, et sans être un pyromane ...)\n",
       " Arrière-bouche avec une impression de strong dry stout.\n",
       " 2ème bouche avec café serré, poivre, muscade, tabac brun.\n",
       " Arrière-bouche qui entre dans la complexité, avec une allégresse vive.\n",
       " Longueur qui trouve pas mal de zestes dans ce café taillé au couteau ..\n",
       " Jambes très huileuses, limite grasses, très longues.\n",
       " Levure boisée, vernissée, belle ligne.\n",
       " Alcool fort, plus haut que son niveau, il fait un 10,5 % tranquille,\n",
       " mais il se révèle un peu emprisonné sur la longueur …\n",
       " Il ne peut trouver d'autres issues aux saveurs, juste un peu \"coincées\".\n",
       " Finale intéressante, sans problème, mais oh combien discutable ..\n",
       " CONCLUSION : le yéti est un personnage séduisant (de loin ..), mais\n",
       " incontestablement excessif, dans tous les sens du terme, et donc si\n",
       " on est un biérophile averti, on ne va pas lui trouver de 5 à la cote, \n",
       " malgré les pages qui en sont remplies … Yéti soit qui mal y pense !!\n",
       " Moralité : grande division (divide) sur la présence de ce yéti .. à 24° C.\n",
       " (à noter aussi qu'il n'a reçu que des médailles d'argent et de bronze ...)\n",
       " (à noter enfin qu'il est conseillé avec du steak grillé .. on a compris !!)\n",
       " (8/4/8/4/16)</div>,\n",
       " <div style=\"color:#666;\">473ml can. Hazy, deep yellow-ish, bright golden colour with average to huge, thick, frothy to creamy, moderately lasting and lacing, white head. Grassy, minimally floral, slightly piney, hoppy aroma, woody hints of pineapple, a touch of fresh hay, subtle and disguised hints of tropical fruit, whiffs of orange peel. Taste is dry, grassy, piney, minimally fruity hoppy, woody hints of pineapple, a touch of hay, subtle and widely disguised hints of tropical fruit, a touch of orange peel, minimally sweet, wheaty malty basis. More grassy than fruity - underwhelming.</div>,\n",
       " <div style=\"color:#666;\">Tap @ Bakgården.  Slightly unclear golden body with a small, but perfectly lacing white head. Nice aroma of malt, citric fruit, ripe tropical fruit, hint of pine and a bit floral. Taste is nice and balanced with a fine malt base behind a complex fruity hop taste. Fine body  and nice fruity bitter aftertaste. Nice rather classic IPA.</div>,\n",
       " <div style=\"color:#666;\">Draft at the brewery. Pours hazy pale gold with a bubbly white head. Tastes like dough, corn, grass, and faint booze. Light body and low carbonation. Smells like dough, corn, grass, and faint booze.</div>,\n",
       " <div style=\"color:#666;\">Aroma : Not much; some straw hoppiness and merest hint of lemon citrus. Taste : Again not much, an indistinct lightly bittering hop, but nothing else. Thin &amp; watery; extremely boring!</div>,\n",
       " <div style=\"color:#666;\">Can.  Pours the color of mandarin oranges.  This is a unique combo ... it gives quite the \"wild\" Belgian aroma, and drinks with a bit of that open-air musk, but it also has a little fruity, \"American\" fruity edge.  (#7683, 2/2020)</div>,\n",
       " <div style=\"color:#666;\">Can shared at the Columbus tasting 19/12/2019. Many thanks A milky orange coloured pour with a loose white head. Aroma is  juicy orange orange, sticky orange, tangerine, hop, passion fruit hop, pineapple, pineapple, passion fruit, , green fresh hop. Palate is sticky orange, highish, carbonation.</div>,\n",
       " <div style=\"color:#666;\">Glass, 5-ounce, draught, gift from Mathieu Vidal, drunk at the St-Jérôme brewery, savoured on February 2, 2019; eye: golden, veiled, no effervescence, tan head, good lacing; nose: Brettanomyces yeast, fruity, musk, malt; mouth: Brettanomyces yeast, fruity, musk, malt, semi-dry finale in Brettanomyces yeast with fruity presence, medium body, good carbonation, mildly bitter, lightly sweet, slick texture; overall: fine\n",
       "  \n",
       " <br><br>\n",
       " FRANÇAIS<br>\n",
       " \n",
       " Verre, 5 onces, en fût, cadeau de Mathieu Vidal, bue à la brasserie de St-Jérôme, savourée le 2 février 2019; œil : dorée, voilée, pas d'effervescence, mousse fauve, bonne dentelle; nez : levure Brettanomyces, fruité, musc, malt; bouche : levure Brettanomyces, fruité, musc, malt, finale semi-sèche en levure Brettanomyces avec présence fruitée, corps moyen, bonne carbonatation, moyennement amère, légèrement sucrée, texture coulante; en résumé : bien</br></br></br></div>,\n",
       " <div style=\"color:#666;\">Can shared at the Columbus tasting 19/12/2019. Many thanks to LKS. A hazed deep orange milky loose white head. Aroma is big juicy dank hop, orange rind, sticky tropical, passion fruit. Flavour is composed of semi sweet, sticky orange, pineapple, sticky hop, mellow dank. Palate is sticky sweet, resinous hop oils, velvety. Solid alcohol presence.</div>]"
      ]
     },
     "execution_count": 5,
     "metadata": {},
     "output_type": "execute_result"
    }
   ],
   "source": [
    "soup.findAll('div')\n",
    "breweries_rating_text = soup.findAll('div', {'style': 'color:#666;'})\n",
    "# <div style=\"color:#666;\">\n",
    "breweries_rating_text"
   ]
  },
  {
   "cell_type": "code",
   "execution_count": null,
   "metadata": {},
   "outputs": [],
   "source": []
  }
 ],
 "metadata": {
  "kernelspec": {
   "display_name": "Python 3",
   "language": "python",
   "name": "python3"
  },
  "language_info": {
   "codemirror_mode": {
    "name": "ipython",
    "version": 3
   },
   "file_extension": ".py",
   "mimetype": "text/x-python",
   "name": "python",
   "nbconvert_exporter": "python",
   "pygments_lexer": "ipython3",
   "version": "3.7.3"
  }
 },
 "nbformat": 4,
 "nbformat_minor": 2
}
