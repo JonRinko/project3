{
 "cells": [
  {
   "cell_type": "code",
   "execution_count": 1,
   "metadata": {},
   "outputs": [
    {
     "name": "stderr",
     "output_type": "stream",
     "text": [
      "c:\\users\\m246172\\appdata\\local\\programs\\python\\python37\\lib\\site-packages\\urllib3\\connectionpool.py:1004: InsecureRequestWarning: Unverified HTTPS request is being made. Adding certificate verification is strongly advised. See: https://urllib3.readthedocs.io/en/latest/advanced-usage.html#ssl-warnings\n",
      "  InsecureRequestWarning,\n"
     ]
    }
   ],
   "source": [
    "import requests\n",
    "import urllib.request\n",
    "import time\n",
    "from bs4 import BeautifulSoup\n",
    "import pandas as pd\n",
    "import numpy as np\n",
    "\n",
    "url = 'https://www.ratebeer.com/beer-ratings/'\n",
    "response = requests.get(url, verify=False)\n",
    "response.status_code\n",
    "\n",
    "soup = BeautifulSoup(response.text, 'html.parser')"
   ]
  },
  {
   "cell_type": "code",
   "execution_count": 2,
   "metadata": {},
   "outputs": [],
   "source": [
    "# declare list variables to hold scraped values\n",
    "var_breweries_rating_texts=[]\n",
    "var_beer_name=[]\n",
    "var_brewery_name=[]\n",
    "var_locations=[]\n",
    "var_ratings=[]"
   ]
  },
  {
   "cell_type": "code",
   "execution_count": 3,
   "metadata": {},
   "outputs": [
    {
     "name": "stdout",
     "output_type": "stream",
     "text": [
      "E and the 102 fever.  This one cools everyone right down.  Soft hop profile which makes this one an easy drinker.\n",
      "Cask at Brewery Tap, Chester\n",
      "\n",
      "Pours an orange copper with a tight white head.  Oranges in the nose with some malts.  Taste has oranges as well, some bitterness and peppery sharpness, all with an undercurrent of malts.  Some hops come through in the finish. \n",
      "\n",
      "Can from chalet.  Slightly darker than pale. Plain old beery nose. Decent co2 with a good fest flavor. Some bitterness in the background from hops. Stronger personality in the middle. Yes, gets a little bold near the end. Tastes like it has more alky than the 5.4% listed here. Slight nasty aftertaste of bitterness approaching astringent.\n",
      "Clear,  tawny blonde pour.  Tall head. Sweet,  malty aroma.  Sweet,  malty,  toasted cereal,  not much bitterness.  Graham cracker tones. Medium body,  short finish, good carbonation but not fizzy.  Solid Vienna.  On tap,  Ocmulgee,  Macon.\n",
      "Near-clear golden pour with a white head, retaining quite OK. Strong carbo. Aroma is partly malty, partly fruity, pineapple, citrus, orange juice; not really hoppy. Taste has fruity sours, but lacks hop bitterness; and finish is typical malty n/a. Well, IPA is not really German beer at its best and especially not an n/a version. Looks and deel are OK, but nose & tongue are more important. Nice try though.\n",
      "Can purchased in the TERMINAL DE CRUCEROS, Puerto Barrios Guatemala.\n",
      "Clear light yellow with a fleeting white head.\n",
      "Skunky, grassy, green apple aroma.\n",
      "Not much flavor. Some very light hop bitterness but very light and watery overall.\n",
      "12 oz can from Total Wine and More in Short Pump, VA  The ale poured a cloudy lemon juice color with a white head and limited lacing.  This is not my style of beer, I generally stay away from light beers.  But this was Firestone Walker and I gave it a try.  Some hop citrus on the nose but very mild.  The ale has a light body and soft carbonation.  There is some crispness in the taste but that turns sour.\n",
      "A fairly recent purchase at the nearest craft beer store, I have cooled off this 2019-2020, 30th Anniversary 550 ml bottle.  I'm using my New Belgium snifter, the pour is a clear, blush-red body with a healthy head of snow white foam. I see a very active carbonation also.  A decent scent, ripe fruit and baked bread I determine.  And with a taste I get a bit of plum, malt, crackers and a touch of the hops.  There is also an unusual vinous finish, not a plus or a negative, just a presence.  Can't say I'll be running out to buy another but it is an okay brew.\n",
      "Juicy, but more sweet than citric, with a sugary backbone offering candied fruit notes overshadowing the more palatable bright grapefruit/stone fruit veins you want in the style. Honey, tea, and wet malt lead to a modestly bitter, slowly cloying fade.  Eh.\n",
      "0,33l bottle. Pours hazy golden with medium sized white head. Sweet. Tropical fruits, citrus. Bitter finish. Average carbonation. Good.\n",
      "Cask at Architect, Chester.\n",
      "\n",
      "Pours the classic “bitter brown” with a tight white head.  Has a good aroma of hops, chestnuts and tea leaves.  In the mouth it is mainly malts with a hint of apples.  Finish is sweet – like barley sugar sweets.  A bog standard bitter really.\n",
      "Exactly as it states.  A session ipa, light calorie but more flavor than most light styles. Light yellow with haze. Aroma is lightly apricot and pineapple. Tastes is medium hops with slight bitter taste at the end. Light mouthfeel. Tap\n",
      "Pours a clouded dark Amber, tall, lumpy foam head. Light malt aroma. Sweet taste low in hops. Some spice with butterscotch, followed by a bit of citrus spice.\n",
      "$6.20 bottle, WW. Pours black, quite thick, small dark brown head. Nose reminds me immediately of cookies and cream ice cream. Go deeper and you get roasted malt, coffee beans, cocoa, chocolate, barrel, light bourbon, vanilla. Flavor is bourbon, roasted malt, ash, dark chocolate, coffee beans, caramel, vanilla. Woo, lots of flavor here.\n",
      "Bottle. Malty aroma and taste, chocolate, coffee, roasty notes, light vanilla, light sweet notes, medium bitter. Full body, malty chocolate bitter sweet finish with light alcohol warming notes. Good.\n"
     ]
    }
   ],
   "source": [
    "soup.findAll('div')\n",
    "breweries_rating_texts = soup.findAll('div', {'style': 'color:#666;'})\n",
    "breweries_rating_texts\n",
    "for breweries_rating_text in breweries_rating_texts:\n",
    "    print(breweries_rating_text.text)"
   ]
  },
  {
   "cell_type": "code",
   "execution_count": 7,
   "metadata": {},
   "outputs": [
    {
     "name": "stdout",
     "output_type": "stream",
     "text": [
      "Brewmaster Jack The Little Brother\n",
      "Front Row Tryanuary Bitter\n",
      "Sibling Revelry Fest\n",
      "Ocmulgee No Ragrets\n",
      "Riegele BierManufaktur IPA Liberis 2+3\n",
      "Gallo\n",
      "Firestone Walker Flyjack\n",
      "Samuel Smiths Winter Welcome Ale\n",
      "SPB Sunkatcher\n",
      "BRLO In Hops we Trust\n",
      "Weetwood Eastgate Ale\n",
      "Firestone Walker Flyjack\n",
      "Wild Range Session IPA\n",
      "Founders KBS Espresso\n",
      "Flying Dog Gonzo Imperial Porter \n"
     ]
    }
   ],
   "source": [
    "soup.findAll('a')\n",
    "beer_names = soup.findAll('a', {'style': 'font-size:20px; font-weight:bold;'})\n",
    "beer_names\n",
    "for beer_name in beer_names:\n",
    "    print(beer_name.text)"
   ]
  },
  {
   "cell_type": "code",
   "execution_count": 22,
   "metadata": {},
   "outputs": [],
   "source": [
    "soup.findAll('div')\n",
    "brewery_names = soup.findAll('a', {'href': \"/brewers/de-dolle-brouwers/1163/\"})\n",
    "# brewery_names = soup.findAll('a')\n",
    "brewery_names\n",
    "for brewery_name in brewery_names:\n",
    "    print(brewery_name.text)"
   ]
  },
  {
   "cell_type": "code",
   "execution_count": 10,
   "metadata": {},
   "outputs": [
    {
     "name": "stdout",
     "output_type": "stream",
     "text": [
      "Northampton, Massachusetts                    \n",
      "Brindley Ford, Staffordshire                    \n",
      "Westlake, Ohio                             \n",
      "Macon, Georgia                          \n",
      "Augsburg, Bavaria                          \n",
      "Guatemala City, Guatemala                        \n",
      "Paso Robles, California                       \n",
      "Tadcaster, North Yorkshire                  \n",
      "Hattiesburg, Mississippi                      \n",
      "Berlin, Berlin                           \n",
      "Tarporley, Cheshire                         \n",
      "Paso Robles, California                       \n",
      "Novato, California                       \n",
      "Grand Rapids, Michigan                         \n",
      "Frederick, Maryland                         \n"
     ]
    }
   ],
   "source": [
    "soup.findAll('span')\n",
    "locations = soup.findAll('span', {'class': 'small'})\n",
    "locations\n",
    "for location in locations:\n",
    "    print(location.text)"
   ]
  },
  {
   "cell_type": "code",
   "execution_count": 11,
   "metadata": {},
   "outputs": [
    {
     "name": "stdout",
     "output_type": "stream",
     "text": [
      "4.5\n",
      " \n",
      "3.1\n",
      " \n",
      "2.3\n",
      " \n",
      "3.6\n",
      " \n",
      "2.9\n",
      " \n",
      "2.7\n",
      " \n",
      "2.3\n",
      " \n",
      "3.2\n",
      " \n",
      "3.0\n",
      " \n",
      "3.8\n",
      " \n",
      "2.8\n",
      " \n",
      "3.7\n",
      " \n",
      "2.4\n",
      " \n",
      "4.2\n",
      " \n",
      "3.9\n",
      " \n"
     ]
    }
   ],
   "source": [
    "ratings = soup.findAll('span', attrs={\"class\": \"uas\"})\n",
    "ratings\n",
    "for rating in ratings:\n",
    "    print(rating.text)"
   ]
  },
  {
   "cell_type": "code",
   "execution_count": null,
   "metadata": {},
   "outputs": [],
   "source": []
  },
  {
   "cell_type": "code",
   "execution_count": null,
   "metadata": {},
   "outputs": [],
   "source": []
  },
  {
   "cell_type": "code",
   "execution_count": null,
   "metadata": {},
   "outputs": [],
   "source": []
  }
 ],
 "metadata": {
  "kernelspec": {
   "display_name": "Python 3",
   "language": "python",
   "name": "python3"
  },
  "language_info": {
   "codemirror_mode": {
    "name": "ipython",
    "version": 3
   },
   "file_extension": ".py",
   "mimetype": "text/x-python",
   "name": "python",
   "nbconvert_exporter": "python",
   "pygments_lexer": "ipython3",
   "version": "3.7.4"
  }
 },
 "nbformat": 4,
 "nbformat_minor": 2
}
